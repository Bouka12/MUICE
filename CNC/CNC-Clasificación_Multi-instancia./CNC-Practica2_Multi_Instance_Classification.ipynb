{
  "nbformat": 4,
  "nbformat_minor": 0,
  "metadata": {
    "colab": {
      "provenance": [],
      "collapsed_sections": [
        "5yLudp606f4q",
        "LApfkVmB-n9l",
        "fuApto3RC4F3",
        "oiE9KWpQnIxZ",
        "gYjNnNzNoYRN",
        "obgA0TNqcnvb",
        "-ia65P3LgDD4",
        "mcpUyRhUlqh1",
        "bn_rEqZGl6-x",
        "Djf4aON4m0DQ",
        "RP3konlqXWDZ",
        "XX0X2PzAfCX7",
        "5O1xuYsRf8S5",
        "4VvqDUoFXomE",
        "Kkb6hh47iMEm",
        "GOFdMn-KjrcH",
        "Nawni5GDj4P2",
        "8qfmf9HXLD1B"
      ]
    },
    "kernelspec": {
      "name": "python3",
      "display_name": "Python 3"
    },
    "language_info": {
      "name": "python"
    }
  },
  "cells": [
    {
      "cell_type": "markdown",
      "source": [
        "# **Práctica 2: Clasificación Multi-Intancia**\n",
        "* **Master:** Inteligencia Computacional y Internet de las Cosas\n",
        "* **Asignatura:** Clasificación Non-Convencional\n",
        "* **Estudiante:** Mabrouka Salmi\n",
        "* **Fecha:** 14-03-2023\n",
        "* **El Cuaderno Colab de la [Práctica](https://colab.research.google.com/drive/16LAwhl8i_GqlfQkX-4AEdxL0QN12KiRj?usp=sharing)**"
      ],
      "metadata": {
        "id": "MyG107EIgcAK"
      }
    },
    {
      "cell_type": "markdown",
      "source": [
        "\n",
        "\n",
        "---\n",
        "\n",
        "\n",
        "**Optamos por la segunda opción: comparación de métodos para esta práctica.**\n",
        "\n",
        "**Enfoques/Métodos comparados**\n",
        "\n",
        "✔ Enfoque Instance Space\n",
        "▶ `APR`\n",
        "\n",
        "✔ Enfoque de espacio embebido\n",
        "\n",
        "▶ `Discriminative Mapping Using SVC`\n",
        "\n",
        "▶ `MILES`\n",
        "\n",
        "**Conjunto de datos utilizado:** ◾ CorelAfrican Dataset ◾ CorelDesserts Dataset ◾ CorelCars Dataset. Descargado de  [multipleinstance](http://www.multipleinstancelearning.com/datasets/)\n",
        "\n",
        "**Bibliotecas utilizadas:** Multi-Instance Learning Library para Python [mil](https://github.com/rosasalberto/mil/tree/master)\n",
        "\n",
        "\n",
        "---\n",
        "\n"
      ],
      "metadata": {
        "id": "O9XhGbJv9gOf"
      }
    },
    {
      "cell_type": "markdown",
      "source": [
        "> 🔰 **Nota:**  Intenté traducir los textos del cuaderno, sin embargo no pude comprobar si mantiene el mismo significado, agradeceré su comprensión y tiempo  "
      ],
      "metadata": {
        "id": "jkTYvdvVzFN5"
      }
    },
    {
      "cell_type": "markdown",
      "source": [
        "## **1. Packages for Mulit-Instance Learning**"
      ],
      "metadata": {
        "id": "5yLudp606f4q"
      }
    },
    {
      "cell_type": "code",
      "source": [
        "# Requisitos para MISVM: Máquinas de vectores soporte de múltiples instancias\n",
        "import numpy as np\n",
        "import scipy\n",
        "import cvxopt"
      ],
      "metadata": {
        "id": "LwnrMIxi5KGB"
      },
      "execution_count": null,
      "outputs": []
    },
    {
      "cell_type": "markdown",
      "source": [
        "[misvm](https://github.com/garydoranjr/misvm)"
      ],
      "metadata": {
        "id": "3Bo1WLPS9A6K"
      }
    },
    {
      "cell_type": "code",
      "execution_count": null,
      "metadata": {
        "colab": {
          "base_uri": "https://localhost:8080/"
        },
        "id": "dG80NTCG4757",
        "outputId": "8bb02415-330d-40f1-a383-69d38525da28"
      },
      "outputs": [
        {
          "output_type": "stream",
          "name": "stdout",
          "text": [
            "Obtaining misvm from git+https://github.com/garydoranjr/misvm.git#egg=misvm\n",
            "  Cloning https://github.com/garydoranjr/misvm.git to ./src/misvm\n",
            "  Running command git clone --filter=blob:none --quiet https://github.com/garydoranjr/misvm.git /content/src/misvm\n",
            "  Resolved https://github.com/garydoranjr/misvm.git to commit b2118fe04d98c00436bdf8a0e4bbfb6082c5751c\n",
            "  Preparing metadata (setup.py) ... \u001b[?25l\u001b[?25hdone\n",
            "Requirement already satisfied: numpy in /usr/local/lib/python3.10/dist-packages (from misvm) (1.25.2)\n",
            "Requirement already satisfied: scipy in /usr/local/lib/python3.10/dist-packages (from misvm) (1.11.4)\n",
            "Requirement already satisfied: cvxopt in /usr/local/lib/python3.10/dist-packages (from misvm) (1.3.2)\n",
            "Installing collected packages: misvm\n",
            "  Running setup.py develop for misvm\n",
            "Successfully installed misvm-1.0\n"
          ]
        }
      ],
      "source": [
        "# en caso necesario:\n",
        "# pip install numpy\n",
        "# pip install scipy\n",
        "# pip install cvxopt\n",
        "%pip install -e git+https://github.com/garydoranjr/misvm.git#egg=misvm"
      ]
    },
    {
      "cell_type": "code",
      "source": [
        "# Requisito para:  mil: multiple instance learning library for Python\n",
        "import  sklearn\n",
        "import tensorflow"
      ],
      "metadata": {
        "id": "a6j7YNRX5GVg"
      },
      "execution_count": null,
      "outputs": []
    },
    {
      "cell_type": "markdown",
      "source": [
        "Multiple instance learning library:\n",
        "[mil_github](https://github.com/rosasalberto/mil)"
      ],
      "metadata": {
        "id": "4cN7w9_r817r"
      }
    },
    {
      "cell_type": "code",
      "source": [
        "# install mil\n",
        "%pip install mil"
      ],
      "metadata": {
        "colab": {
          "base_uri": "https://localhost:8080/"
        },
        "id": "0UwVP2dh5wUa",
        "outputId": "ce462688-f6d4-4386-8505-c96ae63b4a3d"
      },
      "execution_count": null,
      "outputs": [
        {
          "output_type": "stream",
          "name": "stdout",
          "text": [
            "Collecting mil\n",
            "  Downloading mil-1.0.5-py3-none-any.whl (9.8 MB)\n",
            "\u001b[2K     \u001b[90m━━━━━━━━━━━━━━━━━━━━━━━━━━━━━━━━━━━━━━━━\u001b[0m \u001b[32m9.8/9.8 MB\u001b[0m \u001b[31m24.2 MB/s\u001b[0m eta \u001b[36m0:00:00\u001b[0m\n",
            "\u001b[?25hInstalling collected packages: mil\n",
            "Successfully installed mil-1.0.5\n"
          ]
        }
      ]
    },
    {
      "cell_type": "markdown",
      "source": [
        "## **2. Selected Datasets**\n",
        "\n",
        "\n"
      ],
      "metadata": {
        "id": "LApfkVmB-n9l"
      }
    },
    {
      "cell_type": "markdown",
      "source": [
        " Corel son problemas de clasificación de escenas. Cada bolsa es una imagen, cada instancia\n",
        "es un fragmento de esa imagen. Las imágenes representan escenas de postres, coches, etc. Originalmente, tiene 20 clases, se generan 20 conjuntos de datos\n",
        "utilizando el enfoque de uno contra todos, utilizamos tres de ellos:\n",
        "\n",
        "* **Corel_African**\n",
        "* **Corel_Desserts**\n",
        "* **Corel_Cars**"
      ],
      "metadata": {
        "id": "C1AC_Ama8rdS"
      }
    },
    {
      "cell_type": "markdown",
      "source": [
        "### **Carga del conjunto de datos CorelAfrican**"
      ],
      "metadata": {
        "id": "fuApto3RC4F3"
      }
    },
    {
      "cell_type": "code",
      "source": [
        "import pandas as pd"
      ],
      "metadata": {
        "id": "xFJbNsz5Dd9N"
      },
      "execution_count": null,
      "outputs": []
    },
    {
      "cell_type": "code",
      "source": [
        "# https://www.dropbox.com/sh/agpyhqsxcrkxx32/AABO9RC8LZzE--XQskv2Rb3ua/Web1.csv?dl=0\n",
        "n=10\n",
        "column_names = ['bagClass', 'bagID'] + [f'f{i}' for i in range(2, n+1)]\n",
        "CorelAfrican = pd.read_csv(\"/content/drive/MyDrive/Colab Notebooks/CorelAfrican.csv\",header=None,names=column_names)\n",
        "CorelAfrican.head()"
      ],
      "metadata": {
        "id": "F3TrdMIs6GEx",
        "colab": {
          "base_uri": "https://localhost:8080/",
          "height": 226
        },
        "outputId": "2f1921af-2059-405d-9d21-b76db15d63a8"
      },
      "execution_count": null,
      "outputs": [
        {
          "output_type": "execute_result",
          "data": {
            "text/plain": [
              "   bagClass  bagID        f2         f3        f4        f5        f6  \\\n",
              "0         1      1  4.821059   0.593897  1.361879  2.706519  3.575774   \n",
              "1         1      1  7.199910   1.423148  3.127087  3.913973  3.997469   \n",
              "2         1      1  6.818762  -0.670180 -0.492980  2.938068  2.915321   \n",
              "3         1      1  5.283375  10.266975 -0.115075  2.131377  1.692391   \n",
              "4         1      1  5.446272   2.814494  1.619185  3.176151  3.389741   \n",
              "\n",
              "         f7        f8        f9       f10  \n",
              "0  1.324719  0.375802  0.283057  0.181409  \n",
              "1  2.024607  0.157150  0.091908  0.066273  \n",
              "2  1.422168  0.188361  0.118776  0.080730  \n",
              "3  0.808610 -0.017256 -0.004026  0.026912  \n",
              "4  1.416670  0.250244  0.178293  0.122883  "
            ],
            "text/html": [
              "\n",
              "  <div id=\"df-9a15226f-e994-42b1-8011-8789b007467f\" class=\"colab-df-container\">\n",
              "    <div>\n",
              "<style scoped>\n",
              "    .dataframe tbody tr th:only-of-type {\n",
              "        vertical-align: middle;\n",
              "    }\n",
              "\n",
              "    .dataframe tbody tr th {\n",
              "        vertical-align: top;\n",
              "    }\n",
              "\n",
              "    .dataframe thead th {\n",
              "        text-align: right;\n",
              "    }\n",
              "</style>\n",
              "<table border=\"1\" class=\"dataframe\">\n",
              "  <thead>\n",
              "    <tr style=\"text-align: right;\">\n",
              "      <th></th>\n",
              "      <th>bagClass</th>\n",
              "      <th>bagID</th>\n",
              "      <th>f2</th>\n",
              "      <th>f3</th>\n",
              "      <th>f4</th>\n",
              "      <th>f5</th>\n",
              "      <th>f6</th>\n",
              "      <th>f7</th>\n",
              "      <th>f8</th>\n",
              "      <th>f9</th>\n",
              "      <th>f10</th>\n",
              "    </tr>\n",
              "  </thead>\n",
              "  <tbody>\n",
              "    <tr>\n",
              "      <th>0</th>\n",
              "      <td>1</td>\n",
              "      <td>1</td>\n",
              "      <td>4.821059</td>\n",
              "      <td>0.593897</td>\n",
              "      <td>1.361879</td>\n",
              "      <td>2.706519</td>\n",
              "      <td>3.575774</td>\n",
              "      <td>1.324719</td>\n",
              "      <td>0.375802</td>\n",
              "      <td>0.283057</td>\n",
              "      <td>0.181409</td>\n",
              "    </tr>\n",
              "    <tr>\n",
              "      <th>1</th>\n",
              "      <td>1</td>\n",
              "      <td>1</td>\n",
              "      <td>7.199910</td>\n",
              "      <td>1.423148</td>\n",
              "      <td>3.127087</td>\n",
              "      <td>3.913973</td>\n",
              "      <td>3.997469</td>\n",
              "      <td>2.024607</td>\n",
              "      <td>0.157150</td>\n",
              "      <td>0.091908</td>\n",
              "      <td>0.066273</td>\n",
              "    </tr>\n",
              "    <tr>\n",
              "      <th>2</th>\n",
              "      <td>1</td>\n",
              "      <td>1</td>\n",
              "      <td>6.818762</td>\n",
              "      <td>-0.670180</td>\n",
              "      <td>-0.492980</td>\n",
              "      <td>2.938068</td>\n",
              "      <td>2.915321</td>\n",
              "      <td>1.422168</td>\n",
              "      <td>0.188361</td>\n",
              "      <td>0.118776</td>\n",
              "      <td>0.080730</td>\n",
              "    </tr>\n",
              "    <tr>\n",
              "      <th>3</th>\n",
              "      <td>1</td>\n",
              "      <td>1</td>\n",
              "      <td>5.283375</td>\n",
              "      <td>10.266975</td>\n",
              "      <td>-0.115075</td>\n",
              "      <td>2.131377</td>\n",
              "      <td>1.692391</td>\n",
              "      <td>0.808610</td>\n",
              "      <td>-0.017256</td>\n",
              "      <td>-0.004026</td>\n",
              "      <td>0.026912</td>\n",
              "    </tr>\n",
              "    <tr>\n",
              "      <th>4</th>\n",
              "      <td>1</td>\n",
              "      <td>1</td>\n",
              "      <td>5.446272</td>\n",
              "      <td>2.814494</td>\n",
              "      <td>1.619185</td>\n",
              "      <td>3.176151</td>\n",
              "      <td>3.389741</td>\n",
              "      <td>1.416670</td>\n",
              "      <td>0.250244</td>\n",
              "      <td>0.178293</td>\n",
              "      <td>0.122883</td>\n",
              "    </tr>\n",
              "  </tbody>\n",
              "</table>\n",
              "</div>\n",
              "    <div class=\"colab-df-buttons\">\n",
              "\n",
              "  <div class=\"colab-df-container\">\n",
              "    <button class=\"colab-df-convert\" onclick=\"convertToInteractive('df-9a15226f-e994-42b1-8011-8789b007467f')\"\n",
              "            title=\"Convert this dataframe to an interactive table.\"\n",
              "            style=\"display:none;\">\n",
              "\n",
              "  <svg xmlns=\"http://www.w3.org/2000/svg\" height=\"24px\" viewBox=\"0 -960 960 960\">\n",
              "    <path d=\"M120-120v-720h720v720H120Zm60-500h600v-160H180v160Zm220 220h160v-160H400v160Zm0 220h160v-160H400v160ZM180-400h160v-160H180v160Zm440 0h160v-160H620v160ZM180-180h160v-160H180v160Zm440 0h160v-160H620v160Z\"/>\n",
              "  </svg>\n",
              "    </button>\n",
              "\n",
              "  <style>\n",
              "    .colab-df-container {\n",
              "      display:flex;\n",
              "      gap: 12px;\n",
              "    }\n",
              "\n",
              "    .colab-df-convert {\n",
              "      background-color: #E8F0FE;\n",
              "      border: none;\n",
              "      border-radius: 50%;\n",
              "      cursor: pointer;\n",
              "      display: none;\n",
              "      fill: #1967D2;\n",
              "      height: 32px;\n",
              "      padding: 0 0 0 0;\n",
              "      width: 32px;\n",
              "    }\n",
              "\n",
              "    .colab-df-convert:hover {\n",
              "      background-color: #E2EBFA;\n",
              "      box-shadow: 0px 1px 2px rgba(60, 64, 67, 0.3), 0px 1px 3px 1px rgba(60, 64, 67, 0.15);\n",
              "      fill: #174EA6;\n",
              "    }\n",
              "\n",
              "    .colab-df-buttons div {\n",
              "      margin-bottom: 4px;\n",
              "    }\n",
              "\n",
              "    [theme=dark] .colab-df-convert {\n",
              "      background-color: #3B4455;\n",
              "      fill: #D2E3FC;\n",
              "    }\n",
              "\n",
              "    [theme=dark] .colab-df-convert:hover {\n",
              "      background-color: #434B5C;\n",
              "      box-shadow: 0px 1px 3px 1px rgba(0, 0, 0, 0.15);\n",
              "      filter: drop-shadow(0px 1px 2px rgba(0, 0, 0, 0.3));\n",
              "      fill: #FFFFFF;\n",
              "    }\n",
              "  </style>\n",
              "\n",
              "    <script>\n",
              "      const buttonEl =\n",
              "        document.querySelector('#df-9a15226f-e994-42b1-8011-8789b007467f button.colab-df-convert');\n",
              "      buttonEl.style.display =\n",
              "        google.colab.kernel.accessAllowed ? 'block' : 'none';\n",
              "\n",
              "      async function convertToInteractive(key) {\n",
              "        const element = document.querySelector('#df-9a15226f-e994-42b1-8011-8789b007467f');\n",
              "        const dataTable =\n",
              "          await google.colab.kernel.invokeFunction('convertToInteractive',\n",
              "                                                    [key], {});\n",
              "        if (!dataTable) return;\n",
              "\n",
              "        const docLinkHtml = 'Like what you see? Visit the ' +\n",
              "          '<a target=\"_blank\" href=https://colab.research.google.com/notebooks/data_table.ipynb>data table notebook</a>'\n",
              "          + ' to learn more about interactive tables.';\n",
              "        element.innerHTML = '';\n",
              "        dataTable['output_type'] = 'display_data';\n",
              "        await google.colab.output.renderOutput(dataTable, element);\n",
              "        const docLink = document.createElement('div');\n",
              "        docLink.innerHTML = docLinkHtml;\n",
              "        element.appendChild(docLink);\n",
              "      }\n",
              "    </script>\n",
              "  </div>\n",
              "\n",
              "\n",
              "<div id=\"df-19a1f2bc-ef11-459c-a687-0b0e7a6d5e7b\">\n",
              "  <button class=\"colab-df-quickchart\" onclick=\"quickchart('df-19a1f2bc-ef11-459c-a687-0b0e7a6d5e7b')\"\n",
              "            title=\"Suggest charts\"\n",
              "            style=\"display:none;\">\n",
              "\n",
              "<svg xmlns=\"http://www.w3.org/2000/svg\" height=\"24px\"viewBox=\"0 0 24 24\"\n",
              "     width=\"24px\">\n",
              "    <g>\n",
              "        <path d=\"M19 3H5c-1.1 0-2 .9-2 2v14c0 1.1.9 2 2 2h14c1.1 0 2-.9 2-2V5c0-1.1-.9-2-2-2zM9 17H7v-7h2v7zm4 0h-2V7h2v10zm4 0h-2v-4h2v4z\"/>\n",
              "    </g>\n",
              "</svg>\n",
              "  </button>\n",
              "\n",
              "<style>\n",
              "  .colab-df-quickchart {\n",
              "      --bg-color: #E8F0FE;\n",
              "      --fill-color: #1967D2;\n",
              "      --hover-bg-color: #E2EBFA;\n",
              "      --hover-fill-color: #174EA6;\n",
              "      --disabled-fill-color: #AAA;\n",
              "      --disabled-bg-color: #DDD;\n",
              "  }\n",
              "\n",
              "  [theme=dark] .colab-df-quickchart {\n",
              "      --bg-color: #3B4455;\n",
              "      --fill-color: #D2E3FC;\n",
              "      --hover-bg-color: #434B5C;\n",
              "      --hover-fill-color: #FFFFFF;\n",
              "      --disabled-bg-color: #3B4455;\n",
              "      --disabled-fill-color: #666;\n",
              "  }\n",
              "\n",
              "  .colab-df-quickchart {\n",
              "    background-color: var(--bg-color);\n",
              "    border: none;\n",
              "    border-radius: 50%;\n",
              "    cursor: pointer;\n",
              "    display: none;\n",
              "    fill: var(--fill-color);\n",
              "    height: 32px;\n",
              "    padding: 0;\n",
              "    width: 32px;\n",
              "  }\n",
              "\n",
              "  .colab-df-quickchart:hover {\n",
              "    background-color: var(--hover-bg-color);\n",
              "    box-shadow: 0 1px 2px rgba(60, 64, 67, 0.3), 0 1px 3px 1px rgba(60, 64, 67, 0.15);\n",
              "    fill: var(--button-hover-fill-color);\n",
              "  }\n",
              "\n",
              "  .colab-df-quickchart-complete:disabled,\n",
              "  .colab-df-quickchart-complete:disabled:hover {\n",
              "    background-color: var(--disabled-bg-color);\n",
              "    fill: var(--disabled-fill-color);\n",
              "    box-shadow: none;\n",
              "  }\n",
              "\n",
              "  .colab-df-spinner {\n",
              "    border: 2px solid var(--fill-color);\n",
              "    border-color: transparent;\n",
              "    border-bottom-color: var(--fill-color);\n",
              "    animation:\n",
              "      spin 1s steps(1) infinite;\n",
              "  }\n",
              "\n",
              "  @keyframes spin {\n",
              "    0% {\n",
              "      border-color: transparent;\n",
              "      border-bottom-color: var(--fill-color);\n",
              "      border-left-color: var(--fill-color);\n",
              "    }\n",
              "    20% {\n",
              "      border-color: transparent;\n",
              "      border-left-color: var(--fill-color);\n",
              "      border-top-color: var(--fill-color);\n",
              "    }\n",
              "    30% {\n",
              "      border-color: transparent;\n",
              "      border-left-color: var(--fill-color);\n",
              "      border-top-color: var(--fill-color);\n",
              "      border-right-color: var(--fill-color);\n",
              "    }\n",
              "    40% {\n",
              "      border-color: transparent;\n",
              "      border-right-color: var(--fill-color);\n",
              "      border-top-color: var(--fill-color);\n",
              "    }\n",
              "    60% {\n",
              "      border-color: transparent;\n",
              "      border-right-color: var(--fill-color);\n",
              "    }\n",
              "    80% {\n",
              "      border-color: transparent;\n",
              "      border-right-color: var(--fill-color);\n",
              "      border-bottom-color: var(--fill-color);\n",
              "    }\n",
              "    90% {\n",
              "      border-color: transparent;\n",
              "      border-bottom-color: var(--fill-color);\n",
              "    }\n",
              "  }\n",
              "</style>\n",
              "\n",
              "  <script>\n",
              "    async function quickchart(key) {\n",
              "      const quickchartButtonEl =\n",
              "        document.querySelector('#' + key + ' button');\n",
              "      quickchartButtonEl.disabled = true;  // To prevent multiple clicks.\n",
              "      quickchartButtonEl.classList.add('colab-df-spinner');\n",
              "      try {\n",
              "        const charts = await google.colab.kernel.invokeFunction(\n",
              "            'suggestCharts', [key], {});\n",
              "      } catch (error) {\n",
              "        console.error('Error during call to suggestCharts:', error);\n",
              "      }\n",
              "      quickchartButtonEl.classList.remove('colab-df-spinner');\n",
              "      quickchartButtonEl.classList.add('colab-df-quickchart-complete');\n",
              "    }\n",
              "    (() => {\n",
              "      let quickchartButtonEl =\n",
              "        document.querySelector('#df-19a1f2bc-ef11-459c-a687-0b0e7a6d5e7b button');\n",
              "      quickchartButtonEl.style.display =\n",
              "        google.colab.kernel.accessAllowed ? 'block' : 'none';\n",
              "    })();\n",
              "  </script>\n",
              "</div>\n",
              "    </div>\n",
              "  </div>\n"
            ],
            "application/vnd.google.colaboratory.intrinsic+json": {
              "type": "dataframe",
              "variable_name": "CorelAfrican",
              "summary": "{\n  \"name\": \"CorelAfrican\",\n  \"rows\": 7947,\n  \"fields\": [\n    {\n      \"column\": \"bagClass\",\n      \"properties\": {\n        \"dtype\": \"number\",\n        \"std\": 0,\n        \"min\": 0,\n        \"max\": 1,\n        \"num_unique_values\": 2,\n        \"samples\": [\n          0,\n          1\n        ],\n        \"semantic_type\": \"\",\n        \"description\": \"\"\n      }\n    },\n    {\n      \"column\": \"bagID\",\n      \"properties\": {\n        \"dtype\": \"number\",\n        \"std\": 568,\n        \"min\": 1,\n        \"max\": 2000,\n        \"num_unique_values\": 2000,\n        \"samples\": [\n          1861,\n          354\n        ],\n        \"semantic_type\": \"\",\n        \"description\": \"\"\n      }\n    },\n    {\n      \"column\": \"f2\",\n      \"properties\": {\n        \"dtype\": \"number\",\n        \"std\": 1.9959941109943404,\n        \"min\": 0.751078844,\n        \"max\": 9.494208527,\n        \"num_unique_values\": 7940,\n        \"samples\": [\n          2.31196003,\n          7.826638794\n        ],\n        \"semantic_type\": \"\",\n        \"description\": \"\"\n      }\n    },\n    {\n      \"column\": \"f3\",\n      \"properties\": {\n        \"dtype\": \"number\",\n        \"std\": 2.9529364796188498,\n        \"min\": -5.586876678,\n        \"max\": 14.65748901,\n        \"num_unique_values\": 7946,\n        \"samples\": [\n          -0.16044842,\n          0.970681\n        ],\n        \"semantic_type\": \"\",\n        \"description\": \"\"\n      }\n    },\n    {\n      \"column\": \"f4\",\n      \"properties\": {\n        \"dtype\": \"number\",\n        \"std\": 2.160144956330625,\n        \"min\": -10.06710129,\n        \"max\": 7.802072906,\n        \"num_unique_values\": 7947,\n        \"samples\": [\n          -0.480005074,\n          0.252107763\n        ],\n        \"semantic_type\": \"\",\n        \"description\": \"\"\n      }\n    },\n    {\n      \"column\": \"f5\",\n      \"properties\": {\n        \"dtype\": \"number\",\n        \"std\": 3.165298995718145,\n        \"min\": 0.126991197,\n        \"max\": 21.68162155,\n        \"num_unique_values\": 7947,\n        \"samples\": [\n          9.077937126,\n          4.447679043\n        ],\n        \"semantic_type\": \"\",\n        \"description\": \"\"\n      }\n    },\n    {\n      \"column\": \"f6\",\n      \"properties\": {\n        \"dtype\": \"number\",\n        \"std\": 2.926211154793548,\n        \"min\": 0.088268317,\n        \"max\": 19.67811966,\n        \"num_unique_values\": 7945,\n        \"samples\": [\n          9.056202888,\n          5.359110832\n        ],\n        \"semantic_type\": \"\",\n        \"description\": \"\"\n      }\n    },\n    {\n      \"column\": \"f7\",\n      \"properties\": {\n        \"dtype\": \"number\",\n        \"std\": 1.8155548795654644,\n        \"min\": 0.055037711,\n        \"max\": 12.11541176,\n        \"num_unique_values\": 7947,\n        \"samples\": [\n          5.437182426,\n          2.77939868\n        ],\n        \"semantic_type\": \"\",\n        \"description\": \"\"\n      }\n    },\n    {\n      \"column\": \"f8\",\n      \"properties\": {\n        \"dtype\": \"number\",\n        \"std\": 0.22668306121728413,\n        \"min\": -0.05863883,\n        \"max\": 4.069664955,\n        \"num_unique_values\": 7946,\n        \"samples\": [\n          0.198600501,\n          0.041240558\n        ],\n        \"semantic_type\": \"\",\n        \"description\": \"\"\n      }\n    },\n    {\n      \"column\": \"f9\",\n      \"properties\": {\n        \"dtype\": \"number\",\n        \"std\": 0.34333829602917726,\n        \"min\": -0.024080332,\n        \"max\": 19.08897018,\n        \"num_unique_values\": 7946,\n        \"samples\": [\n          0.147768706,\n          0.097470485\n        ],\n        \"semantic_type\": \"\",\n        \"description\": \"\"\n      }\n    },\n    {\n      \"column\": \"f10\",\n      \"properties\": {\n        \"dtype\": \"number\",\n        \"std\": 0.868117653278359,\n        \"min\": 0.020376666,\n        \"max\": 71.48274994,\n        \"num_unique_values\": 7944,\n        \"samples\": [\n          0.10453669,\n          0.073304869\n        ],\n        \"semantic_type\": \"\",\n        \"description\": \"\"\n      }\n    }\n  ]\n}"
            }
          },
          "metadata": {},
          "execution_count": 6
        }
      ]
    },
    {
      "cell_type": "code",
      "source": [
        "import numpy as np\n",
        "import pandas as pd\n",
        "\n",
        "# Group instances by bag_id\n",
        "bags_grouped = CorelAfrican.groupby('bagID')\n",
        "\n",
        "# Initialize lists to store bags and labels\n",
        "bagsAfrican = []\n",
        "labelsAfrican = []\n",
        "\n",
        "# Iterate over each bag\n",
        "for bag_id, bag_data in bags_grouped:\n",
        "    # Extract bag features (excluding 'bag_id' and 'bag_class')\n",
        "    bag_features = bag_data.iloc[:, 2:].to_numpy()\n",
        "\n",
        "    # Append bag features to the bags list\n",
        "    bagsAfrican.append(bag_features)\n",
        "\n",
        "    # Extract and append label for the bag\n",
        "    bag_label = bag_data['bagClass'].iloc[0]\n",
        "    labelsAfrican.append(bag_label)\n",
        "print(\"shape of bags\",len(bagsAfrican))\n",
        "print(bagsAfrican[0:2])\n"
      ],
      "metadata": {
        "colab": {
          "base_uri": "https://localhost:8080/"
        },
        "id": "vOsqK4pZoZ2c",
        "outputId": "a876e738-8546-4d6d-fbfe-edbe9a921461"
      },
      "execution_count": null,
      "outputs": [
        {
          "output_type": "stream",
          "name": "stdout",
          "text": [
            "shape of bags 2000\n",
            "[array([[ 4.82105904e+00,  5.93896770e-01,  1.36187897e+00,\n",
            "         2.70651865e+00,  3.57577419e+00,  1.32471943e+00,\n",
            "         3.75801712e-01,  2.83056557e-01,  1.81408733e-01],\n",
            "       [ 7.19990997e+00,  1.42314796e+00,  3.12708664e+00,\n",
            "         3.91397309e+00,  3.99746919e+00,  2.02460718e+00,\n",
            "         1.57149568e-01,  9.19084700e-02,  6.62729220e-02],\n",
            "       [ 6.81876221e+00, -6.70179653e-01, -4.92979574e-01,\n",
            "         2.93806839e+00,  2.91532135e+00,  1.42216802e+00,\n",
            "         1.88361302e-01,  1.18776314e-01,  8.07300430e-02],\n",
            "       [ 5.28337517e+00,  1.02669746e+01, -1.15075004e-01,\n",
            "         2.13137674e+00,  1.69239104e+00,  8.08609784e-01,\n",
            "        -1.72561110e-02, -4.02617500e-03,  2.69116000e-02],\n",
            "       [ 5.44627152e+00,  2.81449413e+00,  1.61918545e+00,\n",
            "         3.17615056e+00,  3.38974070e+00,  1.41667044e+00,\n",
            "         2.50244081e-01,  1.78293377e-01,  1.22883223e-01],\n",
            "       [ 7.86114578e+00,  1.20846357e+00,  1.26116142e+00,\n",
            "         2.40052319e+00,  2.89742112e+00,  1.17184174e+00,\n",
            "         2.94110090e-01,  1.96885884e-01,  1.26284972e-01]]), array([[ 3.20964279e+00,  5.24168301e-01, -7.62977600e-01,\n",
            "         1.14582729e+00,  1.49950707e+00,  6.00030839e-01,\n",
            "         4.00811911e-01,  3.42036277e-01,  2.61464924e-01],\n",
            "       [ 6.38337250e+00,  1.13347683e+00,  1.39879522e+00,\n",
            "         1.04389656e+00,  1.12527895e+00,  5.14489174e-01,\n",
            "         3.67820740e-01,  2.47580841e-01,  1.44255757e-01],\n",
            "       [ 7.19201965e+00, -1.18921232e-01, -9.56256104e-01,\n",
            "         1.61931026e+00,  1.74851942e+00,  9.00853574e-01,\n",
            "         3.60381037e-01,  2.35863701e-01,  1.42572522e-01],\n",
            "       [ 6.72002640e+00,  4.28628655e+00,  1.91635704e+00,\n",
            "         2.27068376e+00,  2.05907583e+00,  1.03873527e+00,\n",
            "         9.67144100e-03,  4.81215000e-03,  2.94252090e-02],\n",
            "       [ 4.29110146e+00,  1.91310158e+00,  5.60586548e-01,\n",
            "         2.15005875e+00,  2.56853604e+00,  1.17852461e+00,\n",
            "         4.18659687e-01,  3.14669669e-01,  1.99846044e-01],\n",
            "       [ 8.13263168e+00,  1.23784113e+00,  1.26999302e+00,\n",
            "         1.84922612e+00,  1.82996166e+00,  9.96867299e-01,\n",
            "         3.04694682e-01,  2.21308380e-01,  1.50046423e-01]])]\n"
          ]
        }
      ]
    },
    {
      "cell_type": "markdown",
      "source": [
        "\n",
        "\n",
        "###  **Carga del conjunto de datos CorelDessert**\n"
      ],
      "metadata": {
        "id": "oiE9KWpQnIxZ"
      }
    },
    {
      "cell_type": "code",
      "source": [
        "# https://www.dropbox.com/sh/agpyhqsxcrkxx32/AADKf5oD7L0tcKIjJVJRvCdCa/CorelDesserts.csv?e=1&dl=0\n",
        "n=10\n",
        "column_names = ['bagClass', 'bagID'] + [f'f{i}' for i in range(2, n+1)]\n",
        "CorelDesserts = pd.read_csv(\"/content/drive/MyDrive/Colab Notebooks/CorelDesserts.csv\",header=None,names=column_names)"
      ],
      "metadata": {
        "id": "AgMpg6zVnFdL"
      },
      "execution_count": null,
      "outputs": []
    },
    {
      "cell_type": "code",
      "source": [
        "import numpy as np\n",
        "import pandas as pd\n",
        "\n",
        "# Group instances by bag_id\n",
        "bags_grouped = CorelDesserts.groupby('bagID')\n",
        "\n",
        "# Initialize lists to store bags and labels\n",
        "bagsDesserts = []\n",
        "labelsDesserts = []\n",
        "\n",
        "# Iterate over each bag\n",
        "for bag_id, bag_data in bags_grouped:\n",
        "    # Extract bag features (excluding 'bag_id' and 'bag_class')\n",
        "    bag_features = bag_data.iloc[:, 2:].to_numpy()\n",
        "\n",
        "    # Append bag features to the bags list\n",
        "    bagsDesserts.append(bag_features)\n",
        "\n",
        "    # Extract and append label for the bag\n",
        "    bag_label = bag_data['bagClass'].iloc[0]\n",
        "    labelsDesserts.append(bag_label)\n",
        "print(\"shape of bags\",len(bagsDesserts))\n",
        "print(\"ten first elements of the bags= \",bagsDesserts[0:3])\n"
      ],
      "metadata": {
        "colab": {
          "base_uri": "https://localhost:8080/"
        },
        "id": "FAsOG4vealUD",
        "outputId": "5744b447-0579-4853-8730-405fbf245f33"
      },
      "execution_count": null,
      "outputs": [
        {
          "output_type": "stream",
          "name": "stdout",
          "text": [
            "shape of bags 2000\n",
            "ten first elements of the bags=  [array([[ 8.11135330e+00, -3.54739165e-01, -8.51226997e-01,\n",
            "         1.99917865e+00,  1.36801612e+00,  9.03144479e-01,\n",
            "        -1.70224980e-02, -1.15696000e-04,  2.90671980e-02],\n",
            "       [ 5.19403648e+00, -5.25066948e-01, -3.14554939e+00,\n",
            "         7.05675030e+00,  3.73167300e+00,  3.08188486e+00,\n",
            "         2.41932290e-02,  3.33829340e-02,  4.45216750e-02]]), array([[ 3.60204239, -0.23663404, -4.23494911,  6.79396391,  4.9840517 ,\n",
            "         3.83226657,  0.14373371,  0.13427412,  0.10137582],\n",
            "       [ 8.85350342,  0.09761895, -0.97469349,  1.55583453,  1.34251416,\n",
            "         0.83084971,  0.01824229,  0.02006292,  0.03690241],\n",
            "       [ 6.57803497,  0.11510569, -1.60641136,  7.65902615,  4.22317457,\n",
            "         3.20336366,  0.03843562,  0.037366  ,  0.04528224]]), array([[ 3.12990093e+00, -2.40804458e-01, -1.62116337e+00,\n",
            "         1.09429893e+01,  8.81615829e+00,  6.60587835e+00,\n",
            "         1.61717236e-01,  1.59350216e-01,  1.25094160e-01],\n",
            "       [ 7.92793121e+00, -1.01411076e+00, -1.50173693e+00,\n",
            "         1.97214174e+00,  1.31674659e+00,  9.07550156e-01,\n",
            "        -1.02515750e-02, -5.24645600e-03,  2.55565440e-02],\n",
            "       [ 6.15804939e+00,  9.72847080e-01,  5.78052711e-01,\n",
            "         1.58511372e+01,  9.79949188e+00,  6.03165484e+00,\n",
            "         1.77875951e-01,  1.40581861e-01,  1.02985054e-01]])]\n"
          ]
        }
      ]
    },
    {
      "cell_type": "markdown",
      "source": [
        "### **Carga del conjunto de datos CorelDessert CorelCars**"
      ],
      "metadata": {
        "id": "gYjNnNzNoYRN"
      }
    },
    {
      "cell_type": "code",
      "source": [
        "# The below link is used to download the CorelCars dataset\n",
        "# https://www.dropbox.com/sh/agpyhqsxcrkxx32/AACUJTcubiotocJBs18_WCWca/CorelCars.csv?e=1&dl=0\n",
        "n=10\n",
        "column_names = ['bagClass', 'bagID'] + [f'f{i}' for i in range(2, n+1)]\n",
        "CorelCars = pd.read_csv(\"/content/drive/MyDrive/Colab Notebooks/CorelCars.csv\",header=None,names=column_names)"
      ],
      "metadata": {
        "id": "Px-HzfO9nP2M"
      },
      "execution_count": null,
      "outputs": []
    },
    {
      "cell_type": "code",
      "source": [
        "import numpy as np\n",
        "import pandas as pd\n",
        "\n",
        "# Group instances by bag_id\n",
        "bags_grouped = CorelCars.groupby('bagID')\n",
        "\n",
        "# Initialize lists to store bags and labels\n",
        "bagsCars = []\n",
        "labelsCars = []\n",
        "\n",
        "# Iterate over each bag\n",
        "for bag_id, bag_data in bags_grouped:\n",
        "    # Extract bag features (excluding 'bag_id' and 'bag_class')\n",
        "    bag_features = bag_data.iloc[:, 2:].to_numpy()\n",
        "\n",
        "    # Append bag features to the bags list\n",
        "    bagsCars.append(bag_features)\n",
        "\n",
        "    # Extract and append label for the bag\n",
        "    bag_label = bag_data['bagClass'].iloc[0]\n",
        "    labelsCars.append(bag_label)\n",
        "print(\"shape of bags\",len(bagsCars))\n",
        "print(\"ten first elements of the bags= \",bagsCars[0:3])"
      ],
      "metadata": {
        "colab": {
          "base_uri": "https://localhost:8080/"
        },
        "id": "wnRWm_88rQfF",
        "outputId": "86f32e2a-394b-4429-ef87-5fe98ce255c8"
      },
      "execution_count": null,
      "outputs": [
        {
          "output_type": "stream",
          "name": "stdout",
          "text": [
            "shape of bags 2000\n",
            "ten first elements of the bags=  [array([[ 6.50740814, -1.57546387, -1.74076691,  0.67659706,  0.54493767,\n",
            "         0.38886175,  0.05265258,  0.05678634,  0.0572464 ],\n",
            "       [ 2.97259235,  0.09049149,  1.01784487,  8.9087944 , 10.07102203,\n",
            "         5.95166969,  0.24136852,  0.16596581,  0.11356009],\n",
            "       [ 6.62781601,  0.65450044,  1.65608788,  8.00679207,  7.61528635,\n",
            "         4.18144512,  0.01987228,  0.01430246,  0.03343308]]), array([[ 2.52320061,  0.03168821,  0.26638176,  6.94873238,  6.84407043,\n",
            "         3.60523128,  0.06902869,  0.05092875,  0.0506701 ],\n",
            "       [ 8.3212677 , -0.81319056, -0.36880827,  1.6646502 ,  1.61368895,\n",
            "         0.9684096 ,  0.16354714,  0.10412321,  0.07298077],\n",
            "       [ 5.62301636,  0.11746101,  0.5050333 ,  8.95795441,  8.78778935,\n",
            "         4.35319853,  0.07932695,  0.04199187,  0.04344482]]), array([[ 4.71677818, -0.07544677,  1.1325223 ,  9.88647461, 11.00667286,\n",
            "         7.14415264,  0.0959656 ,  0.07455373,  0.06725168],\n",
            "       [ 7.94419632, -1.26080275, -3.02219315,  0.47411335,  0.57361633,\n",
            "         0.26234952,  0.04185297,  0.02994188,  0.04025174],\n",
            "       [ 7.55408859,  0.35926316,  0.62939801,  6.80890226,  8.51149941,\n",
            "         4.49155569,  0.06931432,  0.0485136 ,  0.04889752]])]\n"
          ]
        }
      ]
    },
    {
      "cell_type": "markdown",
      "source": [
        "Instalación de la biblioteca Multiple-Instance Support Vector Machines: MISVM"
      ],
      "metadata": {
        "id": "ml_htc5G8vBM"
      }
    },
    {
      "cell_type": "code",
      "source": [
        "%pip uninstall misvm"
      ],
      "metadata": {
        "id": "Q5KlykzLdur3",
        "colab": {
          "base_uri": "https://localhost:8080/"
        },
        "outputId": "9740ae58-0a7a-46ea-c758-617741466e7d"
      },
      "execution_count": null,
      "outputs": [
        {
          "output_type": "stream",
          "name": "stdout",
          "text": [
            "\u001b[33mWARNING: Skipping misvm as it is not installed.\u001b[0m\u001b[33m\n",
            "\u001b[0m"
          ]
        }
      ]
    },
    {
      "cell_type": "code",
      "source": [
        "!pip install git+https://github.com/garydoranjr/misvm.git#egg=misvm"
      ],
      "metadata": {
        "id": "zrbdQbuBedS-",
        "colab": {
          "base_uri": "https://localhost:8080/"
        },
        "outputId": "b50283fd-b408-4cf8-ea7b-32f93c82f7df"
      },
      "execution_count": null,
      "outputs": [
        {
          "output_type": "stream",
          "name": "stdout",
          "text": [
            "Collecting misvm\n",
            "  Cloning https://github.com/garydoranjr/misvm.git to /tmp/pip-install-jsqiu1sk/misvm_7a42026b0a1640e4832d9805ee069c99\n",
            "  Running command git clone --filter=blob:none --quiet https://github.com/garydoranjr/misvm.git /tmp/pip-install-jsqiu1sk/misvm_7a42026b0a1640e4832d9805ee069c99\n",
            "  Resolved https://github.com/garydoranjr/misvm.git to commit b2118fe04d98c00436bdf8a0e4bbfb6082c5751c\n",
            "  Preparing metadata (setup.py) ... \u001b[?25l\u001b[?25hdone\n",
            "Requirement already satisfied: numpy in /usr/local/lib/python3.10/dist-packages (from misvm) (1.25.2)\n",
            "Requirement already satisfied: scipy in /usr/local/lib/python3.10/dist-packages (from misvm) (1.11.4)\n",
            "Requirement already satisfied: cvxopt in /usr/local/lib/python3.10/dist-packages (from misvm) (1.3.2)\n",
            "Building wheels for collected packages: misvm\n",
            "  Building wheel for misvm (setup.py) ... \u001b[?25l\u001b[?25hdone\n",
            "  Created wheel for misvm: filename=misvm-1.0-py3-none-any.whl size=27219 sha256=0a631f00f8210aeddf73f331818f272309f05f288988edc5ca3cd44cbf64ee1e\n",
            "  Stored in directory: /tmp/pip-ephem-wheel-cache-qrg1t64o/wheels/ff/d7/4e/40bcb8956acbfbd7f287b238ca0155b468c074571e5eca26b4\n",
            "Successfully built misvm\n",
            "Installing collected packages: misvm\n",
            "Successfully installed misvm-1.0\n"
          ]
        }
      ]
    },
    {
      "cell_type": "markdown",
      "source": [
        "### **Bibliotecas relacionadas**"
      ],
      "metadata": {
        "id": "obgA0TNqcnvb"
      }
    },
    {
      "cell_type": "code",
      "source": [
        "from mil.bag_representation import MILESMapping, DiscriminativeMapping, ArithmeticMeanBagRepresentation, \\\n",
        "                                   MedianBagRepresentation, GeometricMeanBagRepresentation, MinBagRepresentation, \\\n",
        "                                   MaxBagRepresentation, MeanMinMaxBagRepresentation"
      ],
      "metadata": {
        "id": "uLLdZeENhhWk"
      },
      "execution_count": null,
      "outputs": []
    },
    {
      "cell_type": "code",
      "source": [
        "from mil.bag_representation import MILESMapping"
      ],
      "metadata": {
        "id": "zPHvf-nxloiq"
      },
      "execution_count": null,
      "outputs": []
    },
    {
      "cell_type": "code",
      "source": [
        "import numpy as np\n",
        "import tensorflow as tf\n",
        "import logging\n",
        "tf.get_logger().setLevel(logging.ERROR)"
      ],
      "metadata": {
        "id": "LHGYSx0IQbID"
      },
      "execution_count": null,
      "outputs": []
    },
    {
      "cell_type": "code",
      "source": [
        "!pip install keras==2.8   # Necesario para el correcto funcionamiento de los métodos de la biblioteca mil"
      ],
      "metadata": {
        "colab": {
          "base_uri": "https://localhost:8080/",
          "height": 304
        },
        "id": "i8gvhaNA-6Fj",
        "outputId": "98ed5cfb-f278-4647-dfa2-0ba890431d28"
      },
      "execution_count": null,
      "outputs": [
        {
          "output_type": "stream",
          "name": "stdout",
          "text": [
            "Collecting keras==2.8\n",
            "  Downloading keras-2.8.0-py2.py3-none-any.whl (1.4 MB)\n",
            "\u001b[2K     \u001b[90m━━━━━━━━━━━━━━━━━━━━━━━━━━━━━━━━━━━━━━━━\u001b[0m \u001b[32m1.4/1.4 MB\u001b[0m \u001b[31m6.7 MB/s\u001b[0m eta \u001b[36m0:00:00\u001b[0m\n",
            "\u001b[?25hInstalling collected packages: keras\n",
            "  Attempting uninstall: keras\n",
            "    Found existing installation: keras 2.15.0\n",
            "    Uninstalling keras-2.15.0:\n",
            "      Successfully uninstalled keras-2.15.0\n",
            "\u001b[31mERROR: pip's dependency resolver does not currently take into account all the packages that are installed. This behaviour is the source of the following dependency conflicts.\n",
            "tensorflow 2.15.0 requires keras<2.16,>=2.15.0, but you have keras 2.8.0 which is incompatible.\u001b[0m\u001b[31m\n",
            "\u001b[0mSuccessfully installed keras-2.8.0\n"
          ]
        },
        {
          "output_type": "display_data",
          "data": {
            "application/vnd.colab-display-data+json": {
              "pip_warning": {
                "packages": [
                  "keras"
                ]
              },
              "id": "a361be9796e44c18a3795ade13afa7b2"
            }
          },
          "metadata": {}
        }
      ]
    },
    {
      "cell_type": "code",
      "source": [
        "!pip install tensorflow==2.8  # Necesario para el correcto funcionamiento de los métodos de la biblioteca mil"
      ],
      "metadata": {
        "id": "ZPZDxQM0_WZ8",
        "colab": {
          "base_uri": "https://localhost:8080/",
          "height": 1000
        },
        "outputId": "55834602-1d13-4b3a-a89b-3d791c6574d8"
      },
      "execution_count": null,
      "outputs": [
        {
          "output_type": "stream",
          "name": "stdout",
          "text": [
            "Collecting tensorflow==2.8\n",
            "  Downloading tensorflow-2.8.0-cp310-cp310-manylinux2010_x86_64.whl (497.6 MB)\n",
            "\u001b[2K     \u001b[90m━━━━━━━━━━━━━━━━━━━━━━━━━━━━━━━━━━━━━━━━\u001b[0m \u001b[32m497.6/497.6 MB\u001b[0m \u001b[31m2.3 MB/s\u001b[0m eta \u001b[36m0:00:00\u001b[0m\n",
            "\u001b[?25hRequirement already satisfied: absl-py>=0.4.0 in /usr/local/lib/python3.10/dist-packages (from tensorflow==2.8) (1.4.0)\n",
            "Requirement already satisfied: astunparse>=1.6.0 in /usr/local/lib/python3.10/dist-packages (from tensorflow==2.8) (1.6.3)\n",
            "Requirement already satisfied: flatbuffers>=1.12 in /usr/local/lib/python3.10/dist-packages (from tensorflow==2.8) (24.3.6)\n",
            "Requirement already satisfied: gast>=0.2.1 in /usr/local/lib/python3.10/dist-packages (from tensorflow==2.8) (0.5.4)\n",
            "Requirement already satisfied: google-pasta>=0.1.1 in /usr/local/lib/python3.10/dist-packages (from tensorflow==2.8) (0.2.0)\n",
            "Requirement already satisfied: h5py>=2.9.0 in /usr/local/lib/python3.10/dist-packages (from tensorflow==2.8) (3.9.0)\n",
            "Collecting keras-preprocessing>=1.1.1 (from tensorflow==2.8)\n",
            "  Downloading Keras_Preprocessing-1.1.2-py2.py3-none-any.whl (42 kB)\n",
            "\u001b[2K     \u001b[90m━━━━━━━━━━━━━━━━━━━━━━━━━━━━━━━━━━━━━━━━\u001b[0m \u001b[32m42.6/42.6 kB\u001b[0m \u001b[31m6.5 MB/s\u001b[0m eta \u001b[36m0:00:00\u001b[0m\n",
            "\u001b[?25hRequirement already satisfied: libclang>=9.0.1 in /usr/local/lib/python3.10/dist-packages (from tensorflow==2.8) (16.0.6)\n",
            "Requirement already satisfied: numpy>=1.20 in /usr/local/lib/python3.10/dist-packages (from tensorflow==2.8) (1.25.2)\n",
            "Requirement already satisfied: opt-einsum>=2.3.2 in /usr/local/lib/python3.10/dist-packages (from tensorflow==2.8) (3.3.0)\n",
            "Requirement already satisfied: protobuf>=3.9.2 in /usr/local/lib/python3.10/dist-packages (from tensorflow==2.8) (3.20.3)\n",
            "Requirement already satisfied: setuptools in /usr/local/lib/python3.10/dist-packages (from tensorflow==2.8) (67.7.2)\n",
            "Requirement already satisfied: six>=1.12.0 in /usr/local/lib/python3.10/dist-packages (from tensorflow==2.8) (1.16.0)\n",
            "Requirement already satisfied: termcolor>=1.1.0 in /usr/local/lib/python3.10/dist-packages (from tensorflow==2.8) (2.4.0)\n",
            "Requirement already satisfied: typing-extensions>=3.6.6 in /usr/local/lib/python3.10/dist-packages (from tensorflow==2.8) (4.10.0)\n",
            "Requirement already satisfied: wrapt>=1.11.0 in /usr/local/lib/python3.10/dist-packages (from tensorflow==2.8) (1.14.1)\n",
            "Collecting tensorboard<2.9,>=2.8 (from tensorflow==2.8)\n",
            "  Downloading tensorboard-2.8.0-py3-none-any.whl (5.8 MB)\n",
            "\u001b[2K     \u001b[90m━━━━━━━━━━━━━━━━━━━━━━━━━━━━━━━━━━━━━━━━\u001b[0m \u001b[32m5.8/5.8 MB\u001b[0m \u001b[31m12.6 MB/s\u001b[0m eta \u001b[36m0:00:00\u001b[0m\n",
            "\u001b[?25hCollecting tf-estimator-nightly==2.8.0.dev2021122109 (from tensorflow==2.8)\n",
            "  Downloading tf_estimator_nightly-2.8.0.dev2021122109-py2.py3-none-any.whl (462 kB)\n",
            "\u001b[2K     \u001b[90m━━━━━━━━━━━━━━━━━━━━━━━━━━━━━━━━━━━━━━━━\u001b[0m \u001b[32m462.5/462.5 kB\u001b[0m \u001b[31m18.9 MB/s\u001b[0m eta \u001b[36m0:00:00\u001b[0m\n",
            "\u001b[?25hRequirement already satisfied: keras<2.9,>=2.8.0rc0 in /usr/local/lib/python3.10/dist-packages (from tensorflow==2.8) (2.8.0)\n",
            "Requirement already satisfied: tensorflow-io-gcs-filesystem>=0.23.1 in /usr/local/lib/python3.10/dist-packages (from tensorflow==2.8) (0.36.0)\n",
            "Requirement already satisfied: grpcio<2.0,>=1.24.3 in /usr/local/lib/python3.10/dist-packages (from tensorflow==2.8) (1.62.0)\n",
            "Requirement already satisfied: wheel<1.0,>=0.23.0 in /usr/local/lib/python3.10/dist-packages (from astunparse>=1.6.0->tensorflow==2.8) (0.42.0)\n",
            "Requirement already satisfied: google-auth<3,>=1.6.3 in /usr/local/lib/python3.10/dist-packages (from tensorboard<2.9,>=2.8->tensorflow==2.8) (2.27.0)\n",
            "Collecting google-auth-oauthlib<0.5,>=0.4.1 (from tensorboard<2.9,>=2.8->tensorflow==2.8)\n",
            "  Downloading google_auth_oauthlib-0.4.6-py2.py3-none-any.whl (18 kB)\n",
            "Requirement already satisfied: markdown>=2.6.8 in /usr/local/lib/python3.10/dist-packages (from tensorboard<2.9,>=2.8->tensorflow==2.8) (3.5.2)\n",
            "Requirement already satisfied: requests<3,>=2.21.0 in /usr/local/lib/python3.10/dist-packages (from tensorboard<2.9,>=2.8->tensorflow==2.8) (2.31.0)\n",
            "Collecting tensorboard-data-server<0.7.0,>=0.6.0 (from tensorboard<2.9,>=2.8->tensorflow==2.8)\n",
            "  Downloading tensorboard_data_server-0.6.1-py3-none-manylinux2010_x86_64.whl (4.9 MB)\n",
            "\u001b[2K     \u001b[90m━━━━━━━━━━━━━━━━━━━━━━━━━━━━━━━━━━━━━━━━\u001b[0m \u001b[32m4.9/4.9 MB\u001b[0m \u001b[31m13.0 MB/s\u001b[0m eta \u001b[36m0:00:00\u001b[0m\n",
            "\u001b[?25hCollecting tensorboard-plugin-wit>=1.6.0 (from tensorboard<2.9,>=2.8->tensorflow==2.8)\n",
            "  Downloading tensorboard_plugin_wit-1.8.1-py3-none-any.whl (781 kB)\n",
            "\u001b[2K     \u001b[90m━━━━━━━━━━━━━━━━━━━━━━━━━━━━━━━━━━━━━━━━\u001b[0m \u001b[32m781.3/781.3 kB\u001b[0m \u001b[31m12.7 MB/s\u001b[0m eta \u001b[36m0:00:00\u001b[0m\n",
            "\u001b[?25hRequirement already satisfied: werkzeug>=0.11.15 in /usr/local/lib/python3.10/dist-packages (from tensorboard<2.9,>=2.8->tensorflow==2.8) (3.0.1)\n",
            "Requirement already satisfied: cachetools<6.0,>=2.0.0 in /usr/local/lib/python3.10/dist-packages (from google-auth<3,>=1.6.3->tensorboard<2.9,>=2.8->tensorflow==2.8) (5.3.3)\n",
            "Requirement already satisfied: pyasn1-modules>=0.2.1 in /usr/local/lib/python3.10/dist-packages (from google-auth<3,>=1.6.3->tensorboard<2.9,>=2.8->tensorflow==2.8) (0.3.0)\n",
            "Requirement already satisfied: rsa<5,>=3.1.4 in /usr/local/lib/python3.10/dist-packages (from google-auth<3,>=1.6.3->tensorboard<2.9,>=2.8->tensorflow==2.8) (4.9)\n",
            "Requirement already satisfied: requests-oauthlib>=0.7.0 in /usr/local/lib/python3.10/dist-packages (from google-auth-oauthlib<0.5,>=0.4.1->tensorboard<2.9,>=2.8->tensorflow==2.8) (1.3.1)\n",
            "Requirement already satisfied: charset-normalizer<4,>=2 in /usr/local/lib/python3.10/dist-packages (from requests<3,>=2.21.0->tensorboard<2.9,>=2.8->tensorflow==2.8) (3.3.2)\n",
            "Requirement already satisfied: idna<4,>=2.5 in /usr/local/lib/python3.10/dist-packages (from requests<3,>=2.21.0->tensorboard<2.9,>=2.8->tensorflow==2.8) (3.6)\n",
            "Requirement already satisfied: urllib3<3,>=1.21.1 in /usr/local/lib/python3.10/dist-packages (from requests<3,>=2.21.0->tensorboard<2.9,>=2.8->tensorflow==2.8) (2.0.7)\n",
            "Requirement already satisfied: certifi>=2017.4.17 in /usr/local/lib/python3.10/dist-packages (from requests<3,>=2.21.0->tensorboard<2.9,>=2.8->tensorflow==2.8) (2024.2.2)\n",
            "Requirement already satisfied: MarkupSafe>=2.1.1 in /usr/local/lib/python3.10/dist-packages (from werkzeug>=0.11.15->tensorboard<2.9,>=2.8->tensorflow==2.8) (2.1.5)\n",
            "Requirement already satisfied: pyasn1<0.6.0,>=0.4.6 in /usr/local/lib/python3.10/dist-packages (from pyasn1-modules>=0.2.1->google-auth<3,>=1.6.3->tensorboard<2.9,>=2.8->tensorflow==2.8) (0.5.1)\n",
            "Requirement already satisfied: oauthlib>=3.0.0 in /usr/local/lib/python3.10/dist-packages (from requests-oauthlib>=0.7.0->google-auth-oauthlib<0.5,>=0.4.1->tensorboard<2.9,>=2.8->tensorflow==2.8) (3.2.2)\n",
            "Installing collected packages: tf-estimator-nightly, tensorboard-plugin-wit, tensorboard-data-server, keras-preprocessing, google-auth-oauthlib, tensorboard, tensorflow\n",
            "  Attempting uninstall: tensorboard-data-server\n",
            "    Found existing installation: tensorboard-data-server 0.7.2\n",
            "    Uninstalling tensorboard-data-server-0.7.2:\n",
            "      Successfully uninstalled tensorboard-data-server-0.7.2\n",
            "  Attempting uninstall: google-auth-oauthlib\n",
            "    Found existing installation: google-auth-oauthlib 1.2.0\n",
            "    Uninstalling google-auth-oauthlib-1.2.0:\n",
            "      Successfully uninstalled google-auth-oauthlib-1.2.0\n",
            "  Attempting uninstall: tensorboard\n",
            "    Found existing installation: tensorboard 2.15.2\n",
            "    Uninstalling tensorboard-2.15.2:\n",
            "      Successfully uninstalled tensorboard-2.15.2\n",
            "  Attempting uninstall: tensorflow\n",
            "    Found existing installation: tensorflow 2.15.0\n",
            "    Uninstalling tensorflow-2.15.0:\n",
            "      Successfully uninstalled tensorflow-2.15.0\n",
            "\u001b[31mERROR: pip's dependency resolver does not currently take into account all the packages that are installed. This behaviour is the source of the following dependency conflicts.\n",
            "pandas-gbq 0.19.2 requires google-auth-oauthlib>=0.7.0, but you have google-auth-oauthlib 0.4.6 which is incompatible.\u001b[0m\u001b[31m\n",
            "\u001b[0mSuccessfully installed google-auth-oauthlib-0.4.6 keras-preprocessing-1.1.2 tensorboard-2.8.0 tensorboard-data-server-0.6.1 tensorboard-plugin-wit-1.8.1 tensorflow-2.8.0 tf-estimator-nightly-2.8.0.dev2021122109\n"
          ]
        },
        {
          "output_type": "display_data",
          "data": {
            "application/vnd.colab-display-data+json": {
              "pip_warning": {
                "packages": [
                  "tensorboard",
                  "tensorflow"
                ]
              },
              "id": "d8260d859aca4f12a106be44ff70189b"
            }
          },
          "metadata": {}
        }
      ]
    },
    {
      "cell_type": "code",
      "source": [
        "# importar estrategia de validación\n",
        "from mil.validators import LeaveOneOut, KFold\n",
        "# importando el modelo final, que en este caso es el clasificador SVC de sklearn\n",
        "from mil.models import SVC\n",
        "# importando trainer\n",
        "from mil.trainer import Trainer\n",
        "# importando preprocessing\n",
        "from mil.preprocessing import StandarizerBagsList\n",
        "# importando métricas, que en este caso son de tf keras metrics\n",
        "from mil.metrics import AUC, BinaryAccuracy, Sensibility, Specificity"
      ],
      "metadata": {
        "id": "ZapYyxY6lWZ2"
      },
      "execution_count": null,
      "outputs": []
    },
    {
      "cell_type": "code",
      "source": [
        "!pip install scikit-multilearn"
      ],
      "metadata": {
        "id": "6V2XXDy8ndkw",
        "colab": {
          "base_uri": "https://localhost:8080/"
        },
        "outputId": "e842f191-35d8-4b15-cdcb-5d4b3ce0142a"
      },
      "execution_count": null,
      "outputs": [
        {
          "output_type": "stream",
          "name": "stdout",
          "text": [
            "Collecting scikit-multilearn\n",
            "  Downloading scikit_multilearn-0.2.0-py3-none-any.whl (89 kB)\n",
            "\u001b[?25l     \u001b[90m━━━━━━━━━━━━━━━━━━━━━━━━━━━━━━━━━━━━━━━━\u001b[0m \u001b[32m0.0/89.4 kB\u001b[0m \u001b[31m?\u001b[0m eta \u001b[36m-:--:--\u001b[0m\r\u001b[2K     \u001b[91m━━━━━━━━━━━━━━━━━━━━━━━━━━━━━━━━\u001b[0m\u001b[90m╺\u001b[0m\u001b[90m━━━━━━━\u001b[0m \u001b[32m71.7/89.4 kB\u001b[0m \u001b[31m1.9 MB/s\u001b[0m eta \u001b[36m0:00:01\u001b[0m\r\u001b[2K     \u001b[90m━━━━━━━━━━━━━━━━━━━━━━━━━━━━━━━━━━━━━━━━\u001b[0m \u001b[32m89.4/89.4 kB\u001b[0m \u001b[31m1.9 MB/s\u001b[0m eta \u001b[36m0:00:00\u001b[0m\n",
            "\u001b[?25hInstalling collected packages: scikit-multilearn\n",
            "Successfully installed scikit-multilearn-0.2.0\n"
          ]
        }
      ]
    },
    {
      "cell_type": "markdown",
      "source": [
        "## **3.1.  APR: Instance-based Classifier**\n"
      ],
      "metadata": {
        "id": "-ia65P3LgDD4"
      }
    },
    {
      "cell_type": "markdown",
      "source": [
        "El algoritmo APR se basa en la hipótesis SMI, que establece que cada bolsa positiva contiene al menos una instancia positiva, mientras que en cada bolsa negativa todas las instancias son negativas.  Este algoritmo utiliza Axis-Parallel Rectangle (APR) para estimar un clasificador a nivel de instancia."
      ],
      "metadata": {
        "id": "SBotsPbt8hns"
      }
    },
    {
      "cell_type": "code",
      "source": [
        "from mil.models import APR\n"
      ],
      "metadata": {
        "id": "14Wd_nYegHjt"
      },
      "execution_count": null,
      "outputs": []
    },
    {
      "cell_type": "markdown",
      "source": [
        "### **CorelAfrican Dataset**"
      ],
      "metadata": {
        "id": "mcpUyRhUlqh1"
      }
    },
    {
      "cell_type": "code",
      "source": [
        "\n",
        "from sklearn.model_selection import train_test_split\n",
        "\n",
        "bag_indices = range(len(bagsAfrican))\n",
        "bags_train, bags_test, labels_train, labels_test, indices_train, indices_test = train_test_split(\n",
        "    bagsAfrican, labelsAfrican, bag_indices, test_size=0.2, random_state=42\n",
        ")"
      ],
      "metadata": {
        "id": "RU4xFC6Ng6oY"
      },
      "execution_count": null,
      "outputs": []
    },
    {
      "cell_type": "code",
      "source": [
        "trainer =Trainer()\n",
        "valid =valid = KFold(n_splits=5, shuffle = True)\n",
        "metrics = [AUC, BinaryAccuracy, Sensibility, Specificity]\n",
        "model = APR()\n",
        "pipeline = [('scale', StandarizerBagsList())]\n",
        "\n",
        "trainer.prepare(model, preprocess_pipeline=pipeline, metrics=metrics)"
      ],
      "metadata": {
        "id": "zxhiPSiLhNM9"
      },
      "execution_count": null,
      "outputs": []
    },
    {
      "cell_type": "code",
      "source": [
        "history = trainer.fit(bags_train, labels_train, sample_weights='balanced', validation_strategy=valid, verbose=1)"
      ],
      "metadata": {
        "colab": {
          "base_uri": "https://localhost:8080/"
        },
        "id": "_wyvccqmh_Nd",
        "outputId": "a3dae5b8-ace8-47b3-b8a3-1777a450fc5f"
      },
      "execution_count": null,
      "outputs": [
        {
          "output_type": "stream",
          "name": "stdout",
          "text": [
            "Iteration: 1, APR size: 13.74, Discriminative features: 9\n",
            "---Grow and discriminate has converged---\n",
            "\n",
            "1/5 [=====>........................] - ETA: 5s - train_auc: 0.5338 - train_binaryaccuracy: 0.1156 - train_sensibility: 1.0000 - train_specificity: 0.0675 - val_auc: 0.5230 - val_binaryaccuracy: 0.0938 - val_sensibility: 1.0000 - val_specificity: 0.0461Iteration: 1, APR size: 14.03, Discriminative features: 9\n",
            "---Grow and discriminate has converged---\n",
            "\n",
            "2/5 [===========>..................] - ETA: 2s - train_auc: 0.5338 - train_binaryaccuracy: 0.1164 - train_sensibility: 1.0000 - train_specificity: 0.0676 - val_auc: 0.5443 - val_binaryaccuracy: 0.1312 - val_sensibility: 1.0000 - val_specificity: 0.0885Iteration: 1, APR size: 13.88, Discriminative features: 9\n",
            "---Grow and discriminate has converged---\n",
            "\n",
            "3/5 [=================>............] - ETA: 1s - train_auc: 0.5346 - train_binaryaccuracy: 0.1180 - train_sensibility: 1.0000 - train_specificity: 0.0692 - val_auc: 0.5344 - val_binaryaccuracy: 0.1125 - val_sensibility: 1.0000 - val_specificity: 0.0689Iteration: 1, APR size: 12.71, Discriminative features: 9\n",
            "---Grow and discriminate has converged---\n",
            "\n",
            "4/5 [=======================>......] - ETA: 0s - train_auc: 0.5369 - train_binaryaccuracy: 0.1180 - train_sensibility: 1.0000 - train_specificity: 0.0738 - val_auc: 0.5213 - val_binaryaccuracy: 0.1469 - val_sensibility: 0.9524 - val_specificity: 0.0903Iteration: 1, APR size: 13.58, Discriminative features: 9\n",
            "---Grow and discriminate has converged---\n",
            "\n",
            "5/5 [==============================] - 4s 726ms/step - train_auc: 0.5441 - train_binaryaccuracy: 0.1359 - train_sensibility: 1.0000 - train_specificity: 0.0882 - val_auc: 0.5295 - val_binaryaccuracy: 0.1031 - val_sensibility: 1.0000 - val_specificity: 0.0590\n"
          ]
        }
      ]
    },
    {
      "cell_type": "code",
      "source": [
        "print(\"The mean of the binaryaccuracy = \",np.mean([e['binaryaccuracy'] for e in history['metrics_val']]))\n",
        "history['metrics_val']"
      ],
      "metadata": {
        "colab": {
          "base_uri": "https://localhost:8080/"
        },
        "id": "qQIdKSLniJ4C",
        "outputId": "57a7599f-330d-425a-def8-4365fde74eab"
      },
      "execution_count": null,
      "outputs": [
        {
          "output_type": "stream",
          "name": "stdout",
          "text": [
            "The mean of the binaryaccuracy =  0.11749999\n"
          ]
        },
        {
          "output_type": "execute_result",
          "data": {
            "text/plain": [
              "[{'auc': 0.52302635,\n",
              "  'binaryaccuracy': 0.09375,\n",
              "  'sensibility': 1.0,\n",
              "  'specificity': 0.04605263},\n",
              " {'auc': 0.5442623,\n",
              "  'binaryaccuracy': 0.13125,\n",
              "  'sensibility': 1.0,\n",
              "  'specificity': 0.08852459},\n",
              " {'auc': 0.5344262,\n",
              "  'binaryaccuracy': 0.1125,\n",
              "  'sensibility': 1.0,\n",
              "  'specificity': 0.06885246},\n",
              " {'auc': 0.52134097,\n",
              "  'binaryaccuracy': 0.146875,\n",
              "  'sensibility': 0.95238096,\n",
              "  'specificity': 0.09030101},\n",
              " {'auc': 0.52950823,\n",
              "  'binaryaccuracy': 0.103125,\n",
              "  'sensibility': 1.0,\n",
              "  'specificity': 0.05901639}]"
            ]
          },
          "metadata": {},
          "execution_count": 13
        }
      ]
    },
    {
      "cell_type": "code",
      "source": [
        "labels_predicted = trainer.predict(bags_test)\n",
        "trainer.predict_metrics(bags_test, labels_test)"
      ],
      "metadata": {
        "colab": {
          "base_uri": "https://localhost:8080/"
        },
        "id": "9V3eEblMiXiC",
        "outputId": "e5af3fe4-0321-4254-c896-a36156c3fe7e"
      },
      "execution_count": null,
      "outputs": [
        {
          "output_type": "execute_result",
          "data": {
            "text/plain": [
              "{'auc': 0.5353403,\n",
              " 'binaryaccuracy': 0.1125,\n",
              " 'sensibility': 1.0,\n",
              " 'specificity': 0.070680626}"
            ]
          },
          "metadata": {},
          "execution_count": 14
        }
      ]
    },
    {
      "cell_type": "markdown",
      "source": [
        "**Interpretation:** The APR follows the Statndard MI assumption , which states every positive bag contains at least on positive instance. As such a bag contining at least one positive instance is classified as positive bag. The asumption is leading to misclassifying the majority of the negative bags where only 7% of the negative bags are correctly classified. While 100% of the positive bags are correctly classified. As a results the high misclassification of negative bags yielding to a very low value of accuracy associated with a low area under the ROC curve indicating that the discrimination between the classes of ARP classifier is almost equal as a random discrimination."
      ],
      "metadata": {
        "id": "W2QXJK3IoZVk"
      }
    },
    {
      "cell_type": "markdown",
      "source": [
        "### **CorelDesserts**"
      ],
      "metadata": {
        "id": "bn_rEqZGl6-x"
      }
    },
    {
      "cell_type": "code",
      "source": [
        "\n",
        "from sklearn.model_selection import train_test_split\n",
        "\n",
        "bag_indices = range(len(bagsDesserts))\n",
        "bags_train, bags_test, labels_train, labels_test, indices_train, indices_test = train_test_split(\n",
        "    bagsDesserts, labelsDesserts, bag_indices, test_size=0.2, random_state=42\n",
        ")"
      ],
      "metadata": {
        "id": "GH3crnJMmOQ6"
      },
      "execution_count": null,
      "outputs": []
    },
    {
      "cell_type": "code",
      "source": [
        "trainer =Trainer()\n",
        "valid =valid = KFold(n_splits=5, shuffle = True)\n",
        "metrics = [AUC, BinaryAccuracy, Sensibility, Specificity]\n",
        "model = APR()\n",
        "pipeline = [('scale', StandarizerBagsList())]\n",
        "\n",
        "trainer.prepare(model, preprocess_pipeline=pipeline, metrics=metrics)"
      ],
      "metadata": {
        "id": "fk1dU5YVmK7t"
      },
      "execution_count": null,
      "outputs": []
    },
    {
      "cell_type": "code",
      "source": [
        "history = trainer.fit(bags_train, labels_train, sample_weights='balanced', validation_strategy=valid, verbose=1)"
      ],
      "metadata": {
        "colab": {
          "base_uri": "https://localhost:8080/"
        },
        "id": "JJbhZWERmHUx",
        "outputId": "3c2db437-cf7b-41d2-ff8b-41a32be09e28"
      },
      "execution_count": null,
      "outputs": [
        {
          "output_type": "stream",
          "name": "stdout",
          "text": [
            "Iteration: 1, APR size: 12.54, Discriminative features: 9\n",
            "---Grow and discriminate has converged---\n",
            "\n",
            "1/5 [=====>........................] - ETA: 2s - train_auc: 0.6462 - train_binaryaccuracy: 0.3289 - train_sensibility: 1.0000 - train_specificity: 0.2924 - val_auc: 0.6612 - val_binaryaccuracy: 0.3562 - val_sensibility: 1.0000 - val_specificity: 0.3224Iteration: 1, APR size: 12.56, Discriminative features: 9\n",
            "---Grow and discriminate has converged---\n",
            "\n",
            "2/5 [===========>..................] - ETA: 1s - train_auc: 0.6469 - train_binaryaccuracy: 0.3313 - train_sensibility: 1.0000 - train_specificity: 0.2937 - val_auc: 0.6503 - val_binaryaccuracy: 0.3313 - val_sensibility: 1.0000 - val_specificity: 0.3007Iteration: 1, APR size: 14.09, Discriminative features: 9\n",
            "---Grow and discriminate has converged---\n",
            "\n",
            "3/5 [=================>............] - ETA: 1s - train_auc: 0.5942 - train_binaryaccuracy: 0.2297 - train_sensibility: 1.0000 - train_specificity: 0.1885 - val_auc: 0.5957 - val_binaryaccuracy: 0.2344 - val_sensibility: 1.0000 - val_specificity: 0.1914Iteration: 1, APR size: 12.38, Discriminative features: 9\n",
            "---Grow and discriminate has converged---\n",
            "\n",
            "4/5 [=======================>......] - ETA: 0s - train_auc: 0.6509 - train_binaryaccuracy: 0.3367 - train_sensibility: 1.0000 - train_specificity: 0.3018 - val_auc: 0.6063 - val_binaryaccuracy: 0.3063 - val_sensibility: 0.9444 - val_specificity: 0.2682Iteration: 1, APR size: 10.83, Discriminative features: 9\n",
            "---Grow and discriminate has converged---\n",
            "\n",
            "5/5 [==============================] - 3s 592ms/step - train_auc: 0.6395 - train_binaryaccuracy: 0.3156 - train_sensibility: 1.0000 - train_specificity: 0.2790 - val_auc: 0.6208 - val_binaryaccuracy: 0.3344 - val_sensibility: 0.9412 - val_specificity: 0.3003\n"
          ]
        }
      ]
    },
    {
      "cell_type": "code",
      "source": [
        "print(\"The mean of the binaryaccuracy = \",np.mean([e['binaryaccuracy'] for e in history['metrics_val']]))\n",
        "history['metrics_val']"
      ],
      "metadata": {
        "colab": {
          "base_uri": "https://localhost:8080/"
        },
        "id": "jtBorjNEmGdw",
        "outputId": "595448ef-7dc6-4692-831d-aa25fa35a7e4"
      },
      "execution_count": null,
      "outputs": [
        {
          "output_type": "stream",
          "name": "stdout",
          "text": [
            "The mean of the binaryaccuracy =  0.3125\n"
          ]
        },
        {
          "output_type": "execute_result",
          "data": {
            "text/plain": [
              "[{'auc': 0.6611842,\n",
              "  'binaryaccuracy': 0.35625,\n",
              "  'sensibility': 1.0,\n",
              "  'specificity': 0.3223684},\n",
              " {'auc': 0.6503268,\n",
              "  'binaryaccuracy': 0.33125,\n",
              "  'sensibility': 1.0,\n",
              "  'specificity': 0.3006536},\n",
              " {'auc': 0.59570956,\n",
              "  'binaryaccuracy': 0.234375,\n",
              "  'sensibility': 1.0,\n",
              "  'specificity': 0.19141914},\n",
              " {'auc': 0.6063281,\n",
              "  'binaryaccuracy': 0.30625,\n",
              "  'sensibility': 0.9444444,\n",
              "  'specificity': 0.26821193},\n",
              " {'auc': 0.6207532,\n",
              "  'binaryaccuracy': 0.334375,\n",
              "  'sensibility': 0.9411765,\n",
              "  'specificity': 0.30033004}]"
            ]
          },
          "metadata": {},
          "execution_count": 23
        }
      ]
    },
    {
      "cell_type": "code",
      "source": [
        "labels_predicted = trainer.predict(bags_test)\n",
        "trainer.predict_metrics(bags_test, labels_test)"
      ],
      "metadata": {
        "colab": {
          "base_uri": "https://localhost:8080/"
        },
        "id": "vPX3Y_ZRmABE",
        "outputId": "dc94e643-0eb1-450a-d9fe-431ef2640c0b"
      },
      "execution_count": null,
      "outputs": [
        {
          "output_type": "execute_result",
          "data": {
            "text/plain": [
              "{'auc': 0.607039,\n",
              " 'binaryaccuracy': 0.3,\n",
              " 'sensibility': 0.9444444,\n",
              " 'specificity': 0.2696335}"
            ]
          },
          "metadata": {},
          "execution_count": 24
        }
      ]
    },
    {
      "cell_type": "markdown",
      "source": [
        "**Interpretation:** The ARP classifier is highly biased towards the positive bags due to the asumption is based on, this leading to ignoring the negative class bags and more attention is allocated to the positive class bags. Consequently, the accuracy of the classifier on the test data is insignificant which is expected due to the misclassification of the negative bags as positive bags. Besides, the area under the ROC curve of the ARP classifier is average, considerng that the algorithm is correctly classifying the majority of the positive bags."
      ],
      "metadata": {
        "id": "hxY24USIqjqf"
      }
    },
    {
      "cell_type": "markdown",
      "source": [
        "### **CorelCars**"
      ],
      "metadata": {
        "id": "Djf4aON4m0DQ"
      }
    },
    {
      "cell_type": "code",
      "source": [
        "\n",
        "from sklearn.model_selection import train_test_split\n",
        "\n",
        "bag_indices = range(len(bagsCars))\n",
        "bags_train, bags_test, labels_train, labels_test, indices_train, indices_test = train_test_split(\n",
        "    bagsCars, labelsCars, bag_indices, test_size=0.2, random_state=42\n",
        ")"
      ],
      "metadata": {
        "id": "9yVcNv5VnBbV"
      },
      "execution_count": null,
      "outputs": []
    },
    {
      "cell_type": "code",
      "source": [
        "trainer =Trainer()\n",
        "valid =valid = KFold(n_splits=5, shuffle = True)\n",
        "metrics = [AUC, BinaryAccuracy, Sensibility, Specificity]\n",
        "model = APR()\n",
        "pipeline = [('scale', StandarizerBagsList())]\n",
        "\n",
        "trainer.prepare(model, preprocess_pipeline=pipeline, metrics=metrics)"
      ],
      "metadata": {
        "id": "9CebThbkm985"
      },
      "execution_count": null,
      "outputs": []
    },
    {
      "cell_type": "code",
      "source": [
        "history = trainer.fit(bags_train, labels_train, sample_weights='balanced', validation_strategy=valid, verbose=1)"
      ],
      "metadata": {
        "colab": {
          "base_uri": "https://localhost:8080/"
        },
        "id": "nEBsnzwNnyWP",
        "outputId": "d62365a9-e291-4037-b970-9094a665efc2"
      },
      "execution_count": null,
      "outputs": [
        {
          "output_type": "stream",
          "name": "stdout",
          "text": [
            "Iteration: 1, APR size: 14.6, Discriminative features: 9\n",
            "---Grow and discriminate has converged---\n",
            "\n",
            "1/5 [=====>........................] - ETA: 1s - train_auc: 0.5641 - train_binaryaccuracy: 0.1711 - train_sensibility: 1.0000 - train_specificity: 0.1282 - val_auc: 0.5385 - val_binaryaccuracy: 0.1781 - val_sensibility: 0.9474 - val_specificity: 0.1296Iteration: 1, APR size: 15.15, Discriminative features: 9\n",
            "---Grow and discriminate has converged---\n",
            "\n",
            "2/5 [===========>..................] - ETA: 1s - train_auc: 0.5409 - train_binaryaccuracy: 0.1312 - train_sensibility: 1.0000 - train_specificity: 0.0818 - val_auc: 0.5358 - val_binaryaccuracy: 0.1094 - val_sensibility: 1.0000 - val_specificity: 0.0717Iteration: 1, APR size: 15.22, Discriminative features: 9\n",
            "---Grow and discriminate has converged---\n",
            "\n",
            "3/5 [=================>............] - ETA: 1s - train_auc: 0.5380 - train_binaryaccuracy: 0.1250 - train_sensibility: 1.0000 - train_specificity: 0.0759 - val_auc: 0.5359 - val_binaryaccuracy: 0.1125 - val_sensibility: 1.0000 - val_specificity: 0.0719Iteration: 1, APR size: 13.0, Discriminative features: 9\n",
            "---Grow and discriminate has converged---\n",
            "\n",
            "4/5 [=======================>......] - ETA: 0s - train_auc: 0.6300 - train_binaryaccuracy: 0.2977 - train_sensibility: 1.0000 - train_specificity: 0.2601 - val_auc: 0.6026 - val_binaryaccuracy: 0.3000 - val_sensibility: 0.9412 - val_specificity: 0.2640Iteration: 1, APR size: 15.07, Discriminative features: 9\n",
            "---Grow and discriminate has converged---\n",
            "\n",
            "5/5 [==============================] - 3s 549ms/step - train_auc: 0.5399 - train_binaryaccuracy: 0.1250 - train_sensibility: 1.0000 - train_specificity: 0.0797 - val_auc: 0.5332 - val_binaryaccuracy: 0.1219 - val_sensibility: 1.0000 - val_specificity: 0.0664\n"
          ]
        }
      ]
    },
    {
      "cell_type": "code",
      "source": [
        "print(\"The mean of the binaryaccuracy = \",np.mean([e['binaryaccuracy'] for e in history['metrics_val']]))\n",
        "history['metrics_val']"
      ],
      "metadata": {
        "colab": {
          "base_uri": "https://localhost:8080/"
        },
        "id": "ioOMTgKhm6yU",
        "outputId": "05e9e23f-9581-4166-c990-ebd9d7da47b3"
      },
      "execution_count": null,
      "outputs": [
        {
          "output_type": "stream",
          "name": "stdout",
          "text": [
            "The mean of the binaryaccuracy =  0.16437499\n"
          ]
        },
        {
          "output_type": "execute_result",
          "data": {
            "text/plain": [
              "[{'auc': 0.53846824,\n",
              "  'binaryaccuracy': 0.178125,\n",
              "  'sensibility': 0.94736844,\n",
              "  'specificity': 0.1295681},\n",
              " {'auc': 0.5358306,\n",
              "  'binaryaccuracy': 0.109375,\n",
              "  'sensibility': 1.0,\n",
              "  'specificity': 0.07166124},\n",
              " {'auc': 0.5359477,\n",
              "  'binaryaccuracy': 0.1125,\n",
              "  'sensibility': 1.0,\n",
              "  'specificity': 0.07189543},\n",
              " {'auc': 0.6026014,\n",
              "  'binaryaccuracy': 0.3,\n",
              "  'sensibility': 0.9411765,\n",
              "  'specificity': 0.2640264},\n",
              " {'auc': 0.53322256,\n",
              "  'binaryaccuracy': 0.121875,\n",
              "  'sensibility': 1.0,\n",
              "  'specificity': 0.06644518}]"
            ]
          },
          "metadata": {},
          "execution_count": 39
        }
      ]
    },
    {
      "cell_type": "code",
      "source": [
        "labels_predicted = trainer.predict(bags_test)\n",
        "trainer.predict_metrics(bags_test, labels_test)"
      ],
      "metadata": {
        "colab": {
          "base_uri": "https://localhost:8080/"
        },
        "id": "PPm72ZMbm36b",
        "outputId": "fa7ad0eb-fea8-4e80-c662-9440bc750d6c"
      },
      "execution_count": null,
      "outputs": [
        {
          "output_type": "execute_result",
          "data": {
            "text/plain": [
              "{'auc': 0.53795815,\n",
              " 'binaryaccuracy': 0.1175,\n",
              " 'sensibility': 1.0,\n",
              " 'specificity': 0.07591623}"
            ]
          },
          "metadata": {},
          "execution_count": 40
        }
      ]
    },
    {
      "cell_type": "markdown",
      "source": [
        "**Interpretation:** The instance sapce based method APR is poorly performing on the `CorelCars` dataset pretty similar to it performance on the `CarsAfrican` dataset. Although the APR model is correctly classifying all the positve bags in the test data is only identified 11% of the negative class. That is resulting in very low values of  `binaryaccuracy` and `area under the ROC curve` indicating the low classification performance of the classifer."
      ],
      "metadata": {
        "id": "661k_HdqoKiA"
      }
    },
    {
      "cell_type": "markdown",
      "source": [
        "## **3.2.  Discriminative Mapping Using SVC: Embedded-Space Method**"
      ],
      "metadata": {
        "id": "RP3konlqXWDZ"
      }
    },
    {
      "cell_type": "markdown",
      "source": [
        "### **CorelAfrican Dataset**"
      ],
      "metadata": {
        "id": "qj-YRfFhL3jE"
      }
    },
    {
      "cell_type": "code",
      "source": [
        "\n",
        "from sklearn.model_selection import train_test_split\n",
        "\n",
        "bag_indices = range(len(bagsAfrican))\n",
        "bags_train, bags_test, labels_train, labels_test, indices_train, indices_test = train_test_split(\n",
        "    bagsAfrican, labelsAfrican, bag_indices, test_size=0.2, random_state=42\n",
        ")\n"
      ],
      "metadata": {
        "id": "nJHQ_NQ0ZVyw"
      },
      "execution_count": null,
      "outputs": []
    },
    {
      "cell_type": "code",
      "source": [
        "# instanciar entrenador\n",
        "trainer = Trainer()\n",
        "\n",
        "# preparar trainer\n",
        "metrics = [AUC, BinaryAccuracy,Sensibility, Specificity]\n",
        "model = SVC(kernel='linear', C=1, class_weight='balanced')\n",
        "pipeline = [('scale', StandarizerBagsList()), ('disc_mapping', MILESMapping())]\n",
        "trainer.prepare(model, preprocess_pipeline=pipeline ,metrics=metrics)"
      ],
      "metadata": {
        "id": "R5aeRE3Fhwc6"
      },
      "execution_count": null,
      "outputs": []
    },
    {
      "cell_type": "code",
      "source": [
        "# fitting trainer\n",
        "valid = KFold(n_splits=5, shuffle = True)\n",
        "history = trainer.fit(bags_train, labels_train, sample_weights='balanced', validation_strategy=valid, verbose=1)"
      ],
      "metadata": {
        "colab": {
          "base_uri": "https://localhost:8080/"
        },
        "id": "qlnoOyhpYe_n",
        "outputId": "8b40c1e9-d79a-47ae-9834-8912b00dd7e3"
      },
      "execution_count": null,
      "outputs": [
        {
          "output_type": "stream",
          "name": "stdout",
          "text": [
            "5/5 [==============================] - 36s 7s/step - train_auc: 0.9749 - train_binaryaccuracy: 0.9523 - train_sensibility: 1.0000 - train_specificity: 0.9498 - val_auc: 0.7496 - val_binaryaccuracy: 0.8938 - val_sensibility: 0.5882 - val_specificity: 0.9109\n"
          ]
        }
      ]
    },
    {
      "cell_type": "code",
      "source": [
        "# imprimir los resultados de la validación de cada pliegue\n",
        "print(\"La media de la binary accuracy = \",np.mean([e['binaryaccuracy'] for e in history['metrics_val']]))\n",
        "history['metrics_val']"
      ],
      "metadata": {
        "colab": {
          "base_uri": "https://localhost:8080/"
        },
        "id": "3QGGLivpYo8s",
        "outputId": "e8f6219f-3f4f-4096-a4eb-4d00c4358755"
      },
      "execution_count": null,
      "outputs": [
        {
          "output_type": "stream",
          "name": "stdout",
          "text": [
            "The mean of the binary accuracy =  0.9150001\n"
          ]
        },
        {
          "output_type": "execute_result",
          "data": {
            "text/plain": [
              "[{'auc': 0.7939891,\n",
              "  'binaryaccuracy': 0.909375,\n",
              "  'sensibility': 0.6666667,\n",
              "  'specificity': 0.9213115},\n",
              " {'auc': 0.75166667,\n",
              "  'binaryaccuracy': 0.928125,\n",
              "  'sensibility': 0.55,\n",
              "  'specificity': 0.9533333},\n",
              " {'auc': 0.9021858,\n",
              "  'binaryaccuracy': 0.934375,\n",
              "  'sensibility': 0.8666667,\n",
              "  'specificity': 0.9377049},\n",
              " {'auc': 0.7939891,\n",
              "  'binaryaccuracy': 0.909375,\n",
              "  'sensibility': 0.6666667,\n",
              "  'specificity': 0.9213115},\n",
              " {'auc': 0.7495632,\n",
              "  'binaryaccuracy': 0.89375,\n",
              "  'sensibility': 0.5882353,\n",
              "  'specificity': 0.9108911}]"
            ]
          },
          "metadata": {},
          "execution_count": 85
        }
      ]
    },
    {
      "cell_type": "code",
      "source": [
        "# métricas de predicción para el conjunto de pruebas\n",
        "trainer.predict_metrics(bags_test, labels_test)"
      ],
      "metadata": {
        "colab": {
          "base_uri": "https://localhost:8080/"
        },
        "id": "5UF4Y0xqYkSP",
        "outputId": "5def67b9-5343-420e-ccd6-2ca2082dff5e"
      },
      "execution_count": null,
      "outputs": [
        {
          "output_type": "execute_result",
          "data": {
            "text/plain": [
              "{'auc': 0.76367074,\n",
              " 'binaryaccuracy': 0.9025,\n",
              " 'sensibility': 0.6111111,\n",
              " 'specificity': 0.9162304}"
            ]
          },
          "metadata": {},
          "execution_count": 86
        }
      ]
    },
    {
      "cell_type": "markdown",
      "source": [
        "**Interpretation**\n",
        "The embedded space method here uses a mapping process of the bag information, where a mapping function is used to turn the bag into a vector summarizing the characteristics of the bag. In this case, a discriminative mapping `disc_mapping` from `MILESMapping()`, besides a Support Vector Classifier for the classification task. The trained model reached a high score of `BinaryAccuracy` of more than 90%. Besides, the area under the ROC curve is more than 0.76 which far higher than the performance of a random classifier (0.5). Both the `Binaryaccuracy` and `area under the ROC curve` indicate the overall considerable performance of the embedded classifier. Additionally, the specificity is superior of value 91% which demonstrate the high discrimination of the negative class, while the sensibility is 61% which relatively considerable, indicate the good performance of the model in identifying the positive class. We notice that the performance of the embedded space based method is good however its effectiveness in identifyin the positive class could be better."
      ],
      "metadata": {
        "id": "SxMb4oKee0Kt"
      }
    },
    {
      "cell_type": "markdown",
      "source": [
        "### **CorelDessert Dataset**\n"
      ],
      "metadata": {
        "id": "XX0X2PzAfCX7"
      }
    },
    {
      "cell_type": "code",
      "source": [
        "\n",
        "from sklearn.model_selection import train_test_split\n",
        "\n",
        "bag_indices = range(len(bagsDesserts))\n",
        "bags_train, bags_test, labels_train, labels_test, indices_train, indices_test = train_test_split(\n",
        "    bagsDesserts, labelsDesserts, bag_indices, test_size=0.2, random_state=42\n",
        ")"
      ],
      "metadata": {
        "id": "4aOb0RwefJLt"
      },
      "execution_count": null,
      "outputs": []
    },
    {
      "cell_type": "code",
      "source": [
        "# instantiate trainer\n",
        "trainer = Trainer()\n",
        "\n",
        "# preparing trainer\n",
        "metrics = [AUC, BinaryAccuracy,Sensibility, Specificity]\n",
        "model = SVC(kernel='linear', C=1, class_weight='balanced')\n",
        "pipeline = [('scale', StandarizerBagsList()), ('disc_mapping', MILESMapping())]\n",
        "trainer.prepare(model, preprocess_pipeline=pipeline ,metrics=metrics)\n"
      ],
      "metadata": {
        "id": "6GKj1vbufUtO"
      },
      "execution_count": null,
      "outputs": []
    },
    {
      "cell_type": "code",
      "source": [
        "# fitting trainer\n",
        "valid = KFold(n_splits=5, shuffle = True)\n",
        "history = trainer.fit(bags_train, labels_train, sample_weights='balanced', validation_strategy=valid, verbose=1)"
      ],
      "metadata": {
        "colab": {
          "base_uri": "https://localhost:8080/"
        },
        "id": "bsNTZN4wfdTE",
        "outputId": "14df7693-ba90-4e2a-d582-1abf150b8e11"
      },
      "execution_count": null,
      "outputs": [
        {
          "output_type": "stream",
          "name": "stdout",
          "text": [
            "5/5 [==============================] - 28s 6s/step - train_auc: 0.9918 - train_binaryaccuracy: 0.9844 - train_sensibility: 1.0000 - train_specificity: 0.9835 - val_auc: 0.8519 - val_binaryaccuracy: 0.9594 - val_sensibility: 0.7333 - val_specificity: 0.9705\n"
          ]
        }
      ]
    },
    {
      "cell_type": "code",
      "source": [
        "# printing validation results for each fold\n",
        "print(\"The mean of the binary accuracy = \",np.mean([e['binaryaccuracy'] for e in history['metrics_val']]))\n",
        "history['metrics_val']"
      ],
      "metadata": {
        "colab": {
          "base_uri": "https://localhost:8080/"
        },
        "id": "IxMjKPNofiAr",
        "outputId": "9af36f30-5b1c-434c-eb9d-6ee389f7e7e6"
      },
      "execution_count": null,
      "outputs": [
        {
          "output_type": "stream",
          "name": "stdout",
          "text": [
            "The mean of the binary accuracy =  0.96187496\n"
          ]
        },
        {
          "output_type": "execute_result",
          "data": {
            "text/plain": [
              "[{'auc': 0.852833,\n",
              "  'binaryaccuracy': 0.96875,\n",
              "  'sensibility': 0.7222222,\n",
              "  'specificity': 0.98344374},\n",
              " {'auc': 0.88803947,\n",
              "  'binaryaccuracy': 0.95625,\n",
              "  'sensibility': 0.8095238,\n",
              "  'specificity': 0.9665552},\n",
              " {'auc': 0.8322369,\n",
              "  'binaryaccuracy': 0.9625,\n",
              "  'sensibility': 0.6875,\n",
              "  'specificity': 0.9769737},\n",
              " {'auc': 0.78030306,\n",
              "  'binaryaccuracy': 0.9625,\n",
              "  'sensibility': 0.5833333,\n",
              "  'specificity': 0.97727275},\n",
              " {'auc': 0.8519126,\n",
              "  'binaryaccuracy': 0.959375,\n",
              "  'sensibility': 0.73333335,\n",
              "  'specificity': 0.9704918}]"
            ]
          },
          "metadata": {},
          "execution_count": 72
        }
      ]
    },
    {
      "cell_type": "code",
      "source": [
        "# predicting metrics for the test set\n",
        "trainer.predict_metrics(bags_test, labels_test)"
      ],
      "metadata": {
        "colab": {
          "base_uri": "https://localhost:8080/"
        },
        "id": "d_fc3Q-pf2vG",
        "outputId": "73b7a38f-e905-4263-f255-a99ea8028330"
      },
      "execution_count": null,
      "outputs": [
        {
          "output_type": "execute_result",
          "data": {
            "text/plain": [
              "{'auc': 0.90488654,\n",
              " 'binaryaccuracy': 0.97,\n",
              " 'sensibility': 0.8333333,\n",
              " 'specificity': 0.9764398}"
            ]
          },
          "metadata": {},
          "execution_count": 73
        }
      ]
    },
    {
      "cell_type": "markdown",
      "source": [
        "**Interpretation:** The embedded space based method on the `CorelDesserts` dataset has an excellent global performance with a `Binaryaccuracy` of 97%, associated with a high value of the `area under the ROC curve` up to 0.90 which is considerable indicating the significative effectiveness in discriminating between the negative and the positive class. Besides, the model attained a `sensibility` of 83% demonstrating the percentage of positive bags correctly classified as positive, the value is notable indicating the significative performance in idetifyin the positive bags. Moreover, the model is highly identifying the negative class attaining a specificity value of 97%. We observe the significantly high performance of the embedded space based model in the `CorelDesserts` datasets, yet its classification performance in this dataset is better than in the previous dataset."
      ],
      "metadata": {
        "id": "8OKhMMTVf4wA"
      }
    },
    {
      "cell_type": "markdown",
      "source": [
        "### **CorelCars Dataset**"
      ],
      "metadata": {
        "id": "5O1xuYsRf8S5"
      }
    },
    {
      "cell_type": "code",
      "source": [
        "from sklearn.model_selection import train_test_split\n",
        "\n",
        "bag_indices = range(len(bagsCars))\n",
        "bags_train, bags_test, labels_train, labels_test, indices_train, indices_test = train_test_split(\n",
        "    bagsCars, labelsCars, bag_indices, test_size=0.2, random_state=42\n",
        ")"
      ],
      "metadata": {
        "id": "q0ElxpbDgCHC"
      },
      "execution_count": null,
      "outputs": []
    },
    {
      "cell_type": "code",
      "source": [
        "# instantiate trainer\n",
        "trainer = Trainer()\n",
        "\n",
        "# preparing trainer\n",
        "metrics = [AUC, BinaryAccuracy,Sensibility, Specificity]\n",
        "model = SVC(kernel='linear', C=1, class_weight='balanced')\n",
        "pipeline = [('scale', StandarizerBagsList()), ('disc_mapping', MILESMapping())]# obtaining a unique vector representing all the bag\n",
        "trainer.prepare(model, preprocess_pipeline=pipeline ,metrics=metrics)\n"
      ],
      "metadata": {
        "id": "uibJUo7WgfdK"
      },
      "execution_count": null,
      "outputs": []
    },
    {
      "cell_type": "code",
      "source": [
        "# fitting trainer\n",
        "valid = KFold(n_splits=5, shuffle = True)\n",
        "history = trainer.fit(bags_train, labels_train, sample_weights='balanced', validation_strategy=valid, verbose=1)"
      ],
      "metadata": {
        "colab": {
          "base_uri": "https://localhost:8080/"
        },
        "id": "2SlDpTc-gk-g",
        "outputId": "e3d720b7-59d2-4503-b054-f5264f0b0f19"
      },
      "execution_count": null,
      "outputs": [
        {
          "output_type": "stream",
          "name": "stdout",
          "text": [
            "5/5 [==============================] - 38s 7s/step - train_auc: 0.9744 - train_binaryaccuracy: 0.9516 - train_sensibility: 1.0000 - train_specificity: 0.9488 - val_auc: 0.8474 - val_binaryaccuracy: 0.9375 - val_sensibility: 0.7500 - val_specificity: 0.9448\n"
          ]
        }
      ]
    },
    {
      "cell_type": "code",
      "source": [
        "# printing validation results for each fold\n",
        "print(\"The mean of the binary accuracy = \",np.mean([e['binaryaccuracy'] for e in history['metrics_val']]))\n",
        "history['metrics_val']"
      ],
      "metadata": {
        "colab": {
          "base_uri": "https://localhost:8080/"
        },
        "id": "0D6BqHfTgtvO",
        "outputId": "8d83d194-f455-4aa9-d378-e93f3ec1d632"
      },
      "execution_count": null,
      "outputs": [
        {
          "output_type": "stream",
          "name": "stdout",
          "text": [
            "The mean of the binary accuracy =  0.9225\n"
          ]
        },
        {
          "output_type": "execute_result",
          "data": {
            "text/plain": [
              "[{'auc': 0.8071039,\n",
              "  'binaryaccuracy': 0.934375,\n",
              "  'sensibility': 0.6666667,\n",
              "  'specificity': 0.947541},\n",
              " {'auc': 0.774671,\n",
              "  'binaryaccuracy': 0.909375,\n",
              "  'sensibility': 0.625,\n",
              "  'specificity': 0.9243421},\n",
              " {'auc': 0.8503735,\n",
              "  'binaryaccuracy': 0.909375,\n",
              "  'sensibility': 0.78571427,\n",
              "  'specificity': 0.9150327},\n",
              " {'auc': 0.8294915,\n",
              "  'binaryaccuracy': 0.921875,\n",
              "  'sensibility': 0.72,\n",
              "  'specificity': 0.938983},\n",
              " {'auc': 0.84740263,\n",
              "  'binaryaccuracy': 0.9375,\n",
              "  'sensibility': 0.75,\n",
              "  'specificity': 0.9448052}]"
            ]
          },
          "metadata": {},
          "execution_count": 78
        }
      ]
    },
    {
      "cell_type": "code",
      "source": [
        "# predicting metrics for the test set\n",
        "trainer.predict_metrics(bags_test, labels_test)"
      ],
      "metadata": {
        "colab": {
          "base_uri": "https://localhost:8080/"
        },
        "id": "vjBi0KrSgqHT",
        "outputId": "6d414a8f-057d-4227-e121-bcd4b3719f1d"
      },
      "execution_count": null,
      "outputs": [
        {
          "output_type": "execute_result",
          "data": {
            "text/plain": [
              "{'auc': 0.8747818,\n",
              " 'binaryaccuracy': 0.9125,\n",
              " 'sensibility': 0.8333333,\n",
              " 'specificity': 0.9162304}"
            ]
          },
          "metadata": {},
          "execution_count": 79
        }
      ]
    },
    {
      "cell_type": "markdown",
      "source": [
        "**Interpretation:**\n",
        "The scores of the evaluation metrics (`Binaryaccuracy`, `auc`, `sensibility`, and `specificity`) of the built embedded space based model on the `CorelCars` are higher than 0.83, indicating the high performance on classifying the test bags. First, the `auc` and the `binaryaccuracy` are, repectively, 0.91 and 0.87 demonstracting the considerable overall performance of the classification model. Noticing that the `specificity` of the model is 0.91 indicating the significative classification ability of the positive bags. However, by seeing the `sensibility` of the model which is considerable  but less than `specificity` value, indicating the lower classification ability regarging  the bags of the positive class. Overall, the discriminative mapping using SVC classifier is quite good performing in the `CorelCars`."
      ],
      "metadata": {
        "id": "P9M2bae5hQw6"
      }
    },
    {
      "cell_type": "markdown",
      "source": [
        "## **3.3.  MILES:  Multiple-Instance Learning via Embedded Instance Selection**"
      ],
      "metadata": {
        "id": "4VvqDUoFXomE"
      }
    },
    {
      "cell_type": "code",
      "source": [
        "from mil.validators import LeaveOneOut\n",
        "from mil.models import MILES"
      ],
      "metadata": {
        "id": "Zab53LNVlRsa"
      },
      "execution_count": null,
      "outputs": []
    },
    {
      "cell_type": "markdown",
      "source": [
        "### **CorelAfrican Dataset**"
      ],
      "metadata": {
        "id": "Kkb6hh47iMEm"
      }
    },
    {
      "cell_type": "code",
      "source": [
        "\n",
        "from sklearn.model_selection import train_test_split\n",
        "\n",
        "#  'bags' is the feature matrix (bags x instances) and 'labels' is the label matrix (bags x labels)\n",
        "bag_indices = range(len(bagsAfrican))\n",
        "bags_train, bags_test, labels_train, labels_test, indices_train, indices_test = train_test_split(\n",
        "    bagsAfrican, labelsAfrican, bag_indices, test_size=0.2, random_state=42\n",
        ")\n"
      ],
      "metadata": {
        "id": "Kozmobcgiica"
      },
      "execution_count": null,
      "outputs": []
    },
    {
      "cell_type": "code",
      "source": [
        "trainer =Trainer()\n",
        "valid =valid = KFold(n_splits=5, shuffle = True)\n",
        "metrics = [AUC, BinaryAccuracy, Sensibility, Specificity]\n",
        "model = MILES()\n",
        "pipeline = [('scale', StandarizerBagsList())]\n",
        "\n",
        "trainer.prepare(model, preprocess_pipeline=pipeline, metrics=metrics)"
      ],
      "metadata": {
        "id": "FYtV9iZLb9kA"
      },
      "execution_count": null,
      "outputs": []
    },
    {
      "cell_type": "code",
      "source": [
        "history = trainer.fit(bags_train, labels_train, sample_weights='balanced', validation_strategy=valid, verbose=1)"
      ],
      "metadata": {
        "colab": {
          "base_uri": "https://localhost:8080/"
        },
        "id": "CR0wvJlecU59",
        "outputId": "3e78c706-109b-4e13-b611-2d4534b9619b"
      },
      "execution_count": null,
      "outputs": [
        {
          "output_type": "stream",
          "name": "stderr",
          "text": [
            "/usr/local/lib/python3.10/dist-packages/sklearn/svm/_base.py:1244: ConvergenceWarning: Liblinear failed to converge, increase the number of iterations.\n",
            "  warnings.warn(\n"
          ]
        },
        {
          "output_type": "stream",
          "name": "stdout",
          "text": [
            "\r1/5 [=====>........................] - ETA: 1:43 - train_auc: 0.9081 - train_binaryaccuracy: 0.8250 - train_sensibility: 1.0000 - train_specificity: 0.8162 - val_auc: 0.8303 - val_binaryaccuracy: 0.7656 - val_sensibility: 0.9048 - val_specificity: 0.7559"
          ]
        },
        {
          "output_type": "stream",
          "name": "stderr",
          "text": [
            "/usr/local/lib/python3.10/dist-packages/sklearn/svm/_base.py:1244: ConvergenceWarning: Liblinear failed to converge, increase the number of iterations.\n",
            "  warnings.warn(\n"
          ]
        },
        {
          "output_type": "stream",
          "name": "stdout",
          "text": [
            "\b\b\b\b\b\b\b\b\b\b\b\b\b\b\b\b\b\b\b\b\b\b\b\b\b\b\b\b\b\b\b\b\b\b\b\b\b\b\b\b\b\b\b\b\b\b\b\b\b\b\b\b\b\b\b\b\b\b\b\b\b\b\b\b\b\b\b\b\b\b\b\b\b\b\b\b\b\b\b\b\b\b\b\b\b\b\b\b\b\b\b\b\b\b\b\b\b\b\b\b\b\b\b\b\b\b\b\b\b\b\b\b\b\b\b\b\b\b\b\b\b\b\b\b\b\b\b\b\b\b\b\b\b\b\b\b\b\b\b\b\b\b\b\b\b\b\b\b\b\b\b\b\b\b\b\b\b\b\b\b\b\b\b\b\b\b\b\b\b\b\b\b\b\b\b\b\b\b\b\b\b\b\b\b\b\b\b\b\b\b\b\b\b\b\b\b\b\b\b\b\b\b\b\b\b\b\b\b\b\b\b\b\b\b\b\b\b\b\b\b\b\b\b\b\b\b\b\b\b\b\b\b\b\b\b\b\b\b\b\b\b\b\b\b\b\b\b\b\b\b\b\b\b\b\r2/5 [===========>..................] - ETA: 1:15 - train_auc: 0.9094 - train_binaryaccuracy: 0.8281 - train_sensibility: 1.0000 - train_specificity: 0.8188 - val_auc: 0.8799 - val_binaryaccuracy: 0.8281 - val_sensibility: 0.9375 - val_specificity: 0.8224"
          ]
        },
        {
          "output_type": "stream",
          "name": "stderr",
          "text": [
            "/usr/local/lib/python3.10/dist-packages/sklearn/svm/_base.py:1244: ConvergenceWarning: Liblinear failed to converge, increase the number of iterations.\n",
            "  warnings.warn(\n"
          ]
        },
        {
          "output_type": "stream",
          "name": "stdout",
          "text": [
            "\b\b\b\b\b\b\b\b\b\b\b\b\b\b\b\b\b\b\b\b\b\b\b\b\b\b\b\b\b\b\b\b\b\b\b\b\b\b\b\b\b\b\b\b\b\b\b\b\b\b\b\b\b\b\b\b\b\b\b\b\b\b\b\b\b\b\b\b\b\b\b\b\b\b\b\b\b\b\b\b\b\b\b\b\b\b\b\b\b\b\b\b\b\b\b\b\b\b\b\b\b\b\b\b\b\b\b\b\b\b\b\b\b\b\b\b\b\b\b\b\b\b\b\b\b\b\b\b\b\b\b\b\b\b\b\b\b\b\b\b\b\b\b\b\b\b\b\b\b\b\b\b\b\b\b\b\b\b\b\b\b\b\b\b\b\b\b\b\b\b\b\b\b\b\b\b\b\b\b\b\b\b\b\b\b\b\b\b\b\b\b\b\b\b\b\b\b\b\b\b\b\b\b\b\b\b\b\b\b\b\b\b\b\b\b\b\b\b\b\b\b\b\b\b\b\b\b\b\b\b\b\b\b\b\b\b\b\b\b\b\b\b\b\b\b\b\b\b\b\b\b\b\b\b\r3/5 [=================>............] - ETA: 51s - train_auc: 0.8983 - train_binaryaccuracy: 0.8078 - train_sensibility: 1.0000 - train_specificity: 0.7967 - val_auc: 0.8831 - val_binaryaccuracy: 0.7750 - val_sensibility: 1.0000 - val_specificity: 0.7662 "
          ]
        },
        {
          "output_type": "stream",
          "name": "stderr",
          "text": [
            "/usr/local/lib/python3.10/dist-packages/sklearn/svm/_base.py:1244: ConvergenceWarning: Liblinear failed to converge, increase the number of iterations.\n",
            "  warnings.warn(\n"
          ]
        },
        {
          "output_type": "stream",
          "name": "stdout",
          "text": [
            "\b\b\b\b\b\b\b\b\b\b\b\b\b\b\b\b\b\b\b\b\b\b\b\b\b\b\b\b\b\b\b\b\b\b\b\b\b\b\b\b\b\b\b\b\b\b\b\b\b\b\b\b\b\b\b\b\b\b\b\b\b\b\b\b\b\b\b\b\b\b\b\b\b\b\b\b\b\b\b\b\b\b\b\b\b\b\b\b\b\b\b\b\b\b\b\b\b\b\b\b\b\b\b\b\b\b\b\b\b\b\b\b\b\b\b\b\b\b\b\b\b\b\b\b\b\b\b\b\b\b\b\b\b\b\b\b\b\b\b\b\b\b\b\b\b\b\b\b\b\b\b\b\b\b\b\b\b\b\b\b\b\b\b\b\b\b\b\b\b\b\b\b\b\b\b\b\b\b\b\b\b\b\b\b\b\b\b\b\b\b\b\b\b\b\b\b\b\b\b\b\b\b\b\b\b\b\b\b\b\b\b\b\b\b\b\b\b\b\b\b\b\b\b\b\b\b\b\b\b\b\b\b\b\b\b\b\b\b\b\b\b\b\b\b\b\b\b\b\b\b\b\b\b\r4/5 [=======================>......] - ETA: 26s - train_auc: 0.9066 - train_binaryaccuracy: 0.8227 - train_sensibility: 1.0000 - train_specificity: 0.8132 - val_auc: 0.8636 - val_binaryaccuracy: 0.8469 - val_sensibility: 0.8824 - val_specificity: 0.8449"
          ]
        },
        {
          "output_type": "stream",
          "name": "stderr",
          "text": [
            "/usr/local/lib/python3.10/dist-packages/sklearn/svm/_base.py:1244: ConvergenceWarning: Liblinear failed to converge, increase the number of iterations.\n",
            "  warnings.warn(\n"
          ]
        },
        {
          "output_type": "stream",
          "name": "stdout",
          "text": [
            "\b\b\b\b\b\b\b\b\b\b\b\b\b\b\b\b\b\b\b\b\b\b\b\b\b\b\b\b\b\b\b\b\b\b\b\b\b\b\b\b\b\b\b\b\b\b\b\b\b\b\b\b\b\b\b\b\b\b\b\b\b\b\b\b\b\b\b\b\b\b\b\b\b\b\b\b\b\b\b\b\b\b\b\b\b\b\b\b\b\b\b\b\b\b\b\b\b\b\b\b\b\b\b\b\b\b\b\b\b\b\b\b\b\b\b\b\b\b\b\b\b\b\b\b\b\b\b\b\b\b\b\b\b\b\b\b\b\b\b\b\b\b\b\b\b\b\b\b\b\b\b\b\b\b\b\b\b\b\b\b\b\b\b\b\b\b\b\b\b\b\b\b\b\b\b\b\b\b\b\b\b\b\b\b\b\b\b\b\b\b\b\b\b\b\b\b\b\b\b\b\b\b\b\b\b\b\b\b\b\b\b\b\b\b\b\b\b\b\b\b\b\b\b\b\b\b\b\b\b\b\b\b\b\b\b\b\b\b\b\b\b\b\b\b\b\b\b\b\b\b\b\b\b\r5/5 [==============================] - 126s 25s/step - train_auc: 0.9086 - train_binaryaccuracy: 0.8266 - train_sensibility: 1.0000 - train_specificity: 0.8171 - val_auc: 0.8553 - val_binaryaccuracy: 0.8375 - val_sensibility: 0.8750 - val_specificity: 0.8355\n"
          ]
        }
      ]
    },
    {
      "cell_type": "code",
      "source": [
        "print(\"The mean of the binaryaccuracy = \",np.mean([e['binaryaccuracy'] for e in history['metrics_val']]))\n",
        "history['metrics_val']"
      ],
      "metadata": {
        "colab": {
          "base_uri": "https://localhost:8080/"
        },
        "id": "3ZHhH67AfSLn",
        "outputId": "f6e268ee-3ac5-4a34-9da6-0726447158d4"
      },
      "execution_count": null,
      "outputs": [
        {
          "output_type": "stream",
          "name": "stdout",
          "text": [
            "The mean of the binaryaccuracy =  0.81062496\n"
          ]
        },
        {
          "output_type": "execute_result",
          "data": {
            "text/plain": [
              "[{'auc': 0.83030736,\n",
              "  'binaryaccuracy': 0.765625,\n",
              "  'sensibility': 0.9047619,\n",
              "  'specificity': 0.7558528},\n",
              " {'auc': 0.8799342,\n",
              "  'binaryaccuracy': 0.828125,\n",
              "  'sensibility': 0.9375,\n",
              "  'specificity': 0.82236844},\n",
              " {'auc': 0.8831169,\n",
              "  'binaryaccuracy': 0.775,\n",
              "  'sensibility': 1.0,\n",
              "  'specificity': 0.76623374},\n",
              " {'auc': 0.86361873,\n",
              "  'binaryaccuracy': 0.846875,\n",
              "  'sensibility': 0.88235295,\n",
              "  'specificity': 0.8448845},\n",
              " {'auc': 0.8552632,\n",
              "  'binaryaccuracy': 0.8375,\n",
              "  'sensibility': 0.875,\n",
              "  'specificity': 0.8355263}]"
            ]
          },
          "metadata": {},
          "execution_count": 107
        }
      ]
    },
    {
      "cell_type": "code",
      "source": [
        "labels_predicted = trainer.predict(bags_test)\n",
        "trainer.predict_metrics(bags_test, labels_test)"
      ],
      "metadata": {
        "id": "npJU4sPbgS5h",
        "colab": {
          "base_uri": "https://localhost:8080/"
        },
        "outputId": "9fe642b0-9239-4a63-bc15-2eba37807e40"
      },
      "execution_count": null,
      "outputs": [
        {
          "output_type": "execute_result",
          "data": {
            "text/plain": [
              "{'auc': 0.7789413,\n",
              " 'binaryaccuracy': 0.78,\n",
              " 'sensibility': 0.7777778,\n",
              " 'specificity': 0.7801047}"
            ]
          },
          "metadata": {},
          "execution_count": 108
        }
      ]
    },
    {
      "cell_type": "markdown",
      "source": [
        "**Interpretation:**\n",
        "The `MILES` (Multi-instance Learning) model attained a good `Binaryaccuracy` value of 0.78 on the test subset of the `CorelCars` dataset, besides it has a good `area under  the ROC curve` of 0.77. Both the `binaryaccuracy` and `area under the ROC curve` confirm the good classification performance of the MILES model. Considering that `sensibility` and `specificity` have approximatively similar values of 0.77 and 0.78, respectively. The model has a good classification performance of the positive class bags as well as the negative class bags. Hence, a balanced classification ability on both negative and positive class bags. We notice the relatively considerable performance of the bags-space based model on the `CorelAfrican` dataset."
      ],
      "metadata": {
        "id": "F4FWdFiBjoXj"
      }
    },
    {
      "cell_type": "markdown",
      "source": [
        "### **CorelDesserts Dataset**"
      ],
      "metadata": {
        "id": "GOFdMn-KjrcH"
      }
    },
    {
      "cell_type": "code",
      "source": [
        "from sklearn.model_selection import train_test_split\n",
        "\n",
        "#  'bags' is the feature matrix (bags x instances) and 'labels' is the label matrix (bags x labels)\n",
        "bag_indices = range(len(bagsDesserts))\n",
        "bags_train, bags_test, labels_train, labels_test, indices_train, indices_test = train_test_split(\n",
        "    bagsDesserts, labelsDesserts, bag_indices, test_size=0.2, random_state=42\n",
        ")"
      ],
      "metadata": {
        "id": "gG6b15_3jx1c"
      },
      "execution_count": null,
      "outputs": []
    },
    {
      "cell_type": "code",
      "source": [
        "trainer =Trainer()\n",
        "valid =valid = KFold(n_splits=5, shuffle = True)\n",
        "metrics = [AUC, BinaryAccuracy, Sensibility, Specificity]\n",
        "model = MILES()\n",
        "pipeline = [('scale', StandarizerBagsList())]\n",
        "\n",
        "trainer.prepare(model, preprocess_pipeline=pipeline, metrics=metrics)"
      ],
      "metadata": {
        "id": "uqJAk3lYkBHm"
      },
      "execution_count": null,
      "outputs": []
    },
    {
      "cell_type": "code",
      "source": [
        "history = trainer.fit(bags_train, labels_train, sample_weights='balanced', validation_strategy=valid, verbose=1)"
      ],
      "metadata": {
        "colab": {
          "base_uri": "https://localhost:8080/"
        },
        "id": "iSuxTD2KkEXP",
        "outputId": "d7451aa6-ca06-44ce-c0fc-5f4c2d01b112"
      },
      "execution_count": null,
      "outputs": [
        {
          "output_type": "stream",
          "name": "stderr",
          "text": [
            "/usr/local/lib/python3.10/dist-packages/sklearn/svm/_base.py:1244: ConvergenceWarning: Liblinear failed to converge, increase the number of iterations.\n",
            "  warnings.warn(\n"
          ]
        },
        {
          "output_type": "stream",
          "name": "stdout",
          "text": [
            "\r1/5 [=====>........................] - ETA: 1:23 - train_auc: 0.9572 - train_binaryaccuracy: 0.9187 - train_sensibility: 1.0000 - train_specificity: 0.9143 - val_auc: 0.9128 - val_binaryaccuracy: 0.9469 - val_sensibility: 0.8750 - val_specificity: 0.9507"
          ]
        },
        {
          "output_type": "stream",
          "name": "stderr",
          "text": [
            "/usr/local/lib/python3.10/dist-packages/sklearn/svm/_base.py:1244: ConvergenceWarning: Liblinear failed to converge, increase the number of iterations.\n",
            "  warnings.warn(\n"
          ]
        },
        {
          "output_type": "stream",
          "name": "stdout",
          "text": [
            "\b\b\b\b\b\b\b\b\b\b\b\b\b\b\b\b\b\b\b\b\b\b\b\b\b\b\b\b\b\b\b\b\b\b\b\b\b\b\b\b\b\b\b\b\b\b\b\b\b\b\b\b\b\b\b\b\b\b\b\b\b\b\b\b\b\b\b\b\b\b\b\b\b\b\b\b\b\b\b\b\b\b\b\b\b\b\b\b\b\b\b\b\b\b\b\b\b\b\b\b\b\b\b\b\b\b\b\b\b\b\b\b\b\b\b\b\b\b\b\b\b\b\b\b\b\b\b\b\b\b\b\b\b\b\b\b\b\b\b\b\b\b\b\b\b\b\b\b\b\b\b\b\b\b\b\b\b\b\b\b\b\b\b\b\b\b\b\b\b\b\b\b\b\b\b\b\b\b\b\b\b\b\b\b\b\b\b\b\b\b\b\b\b\b\b\b\b\b\b\b\b\b\b\b\b\b\b\b\b\b\b\b\b\b\b\b\b\b\b\b\b\b\b\b\b\b\b\b\b\b\b\b\b\b\b\b\b\b\b\b\b\b\b\b\b\b\b\b\b\b\b\b\b\b\r2/5 [===========>..................] - ETA: 1:01 - train_auc: 0.9608 - train_binaryaccuracy: 0.9258 - train_sensibility: 1.0000 - train_specificity: 0.9217 - val_auc: 0.8874 - val_binaryaccuracy: 0.9062 - val_sensibility: 0.8667 - val_specificity: 0.9082"
          ]
        },
        {
          "output_type": "stream",
          "name": "stderr",
          "text": [
            "/usr/local/lib/python3.10/dist-packages/sklearn/svm/_base.py:1244: ConvergenceWarning: Liblinear failed to converge, increase the number of iterations.\n",
            "  warnings.warn(\n"
          ]
        },
        {
          "output_type": "stream",
          "name": "stdout",
          "text": [
            "\b\b\b\b\b\b\b\b\b\b\b\b\b\b\b\b\b\b\b\b\b\b\b\b\b\b\b\b\b\b\b\b\b\b\b\b\b\b\b\b\b\b\b\b\b\b\b\b\b\b\b\b\b\b\b\b\b\b\b\b\b\b\b\b\b\b\b\b\b\b\b\b\b\b\b\b\b\b\b\b\b\b\b\b\b\b\b\b\b\b\b\b\b\b\b\b\b\b\b\b\b\b\b\b\b\b\b\b\b\b\b\b\b\b\b\b\b\b\b\b\b\b\b\b\b\b\b\b\b\b\b\b\b\b\b\b\b\b\b\b\b\b\b\b\b\b\b\b\b\b\b\b\b\b\b\b\b\b\b\b\b\b\b\b\b\b\b\b\b\b\b\b\b\b\b\b\b\b\b\b\b\b\b\b\b\b\b\b\b\b\b\b\b\b\b\b\b\b\b\b\b\b\b\b\b\b\b\b\b\b\b\b\b\b\b\b\b\b\b\b\b\b\b\b\b\b\b\b\b\b\b\b\b\b\b\b\b\b\b\b\b\b\b\b\b\b\b\b\b\b\b\b\b\b\r3/5 [=================>............] - ETA: 41s - train_auc: 0.9675 - train_binaryaccuracy: 0.9383 - train_sensibility: 1.0000 - train_specificity: 0.9351 - val_auc: 0.8515 - val_binaryaccuracy: 0.9062 - val_sensibility: 0.7895 - val_specificity: 0.9136 "
          ]
        },
        {
          "output_type": "stream",
          "name": "stderr",
          "text": [
            "/usr/local/lib/python3.10/dist-packages/sklearn/svm/_base.py:1244: ConvergenceWarning: Liblinear failed to converge, increase the number of iterations.\n",
            "  warnings.warn(\n"
          ]
        },
        {
          "output_type": "stream",
          "name": "stdout",
          "text": [
            "\b\b\b\b\b\b\b\b\b\b\b\b\b\b\b\b\b\b\b\b\b\b\b\b\b\b\b\b\b\b\b\b\b\b\b\b\b\b\b\b\b\b\b\b\b\b\b\b\b\b\b\b\b\b\b\b\b\b\b\b\b\b\b\b\b\b\b\b\b\b\b\b\b\b\b\b\b\b\b\b\b\b\b\b\b\b\b\b\b\b\b\b\b\b\b\b\b\b\b\b\b\b\b\b\b\b\b\b\b\b\b\b\b\b\b\b\b\b\b\b\b\b\b\b\b\b\b\b\b\b\b\b\b\b\b\b\b\b\b\b\b\b\b\b\b\b\b\b\b\b\b\b\b\b\b\b\b\b\b\b\b\b\b\b\b\b\b\b\b\b\b\b\b\b\b\b\b\b\b\b\b\b\b\b\b\b\b\b\b\b\b\b\b\b\b\b\b\b\b\b\b\b\b\b\b\b\b\b\b\b\b\b\b\b\b\b\b\b\b\b\b\b\b\b\b\b\b\b\b\b\b\b\b\b\b\b\b\b\b\b\b\b\b\b\b\b\b\b\b\b\b\b\b\r4/5 [=======================>......] - ETA: 21s - train_auc: 0.9619 - train_binaryaccuracy: 0.9273 - train_sensibility: 1.0000 - train_specificity: 0.9237 - val_auc: 0.9089 - val_binaryaccuracy: 0.9125 - val_sensibility: 0.9048 - val_specificity: 0.9130"
          ]
        },
        {
          "output_type": "stream",
          "name": "stderr",
          "text": [
            "/usr/local/lib/python3.10/dist-packages/sklearn/svm/_base.py:1244: ConvergenceWarning: Liblinear failed to converge, increase the number of iterations.\n",
            "  warnings.warn(\n"
          ]
        },
        {
          "output_type": "stream",
          "name": "stdout",
          "text": [
            "\b\b\b\b\b\b\b\b\b\b\b\b\b\b\b\b\b\b\b\b\b\b\b\b\b\b\b\b\b\b\b\b\b\b\b\b\b\b\b\b\b\b\b\b\b\b\b\b\b\b\b\b\b\b\b\b\b\b\b\b\b\b\b\b\b\b\b\b\b\b\b\b\b\b\b\b\b\b\b\b\b\b\b\b\b\b\b\b\b\b\b\b\b\b\b\b\b\b\b\b\b\b\b\b\b\b\b\b\b\b\b\b\b\b\b\b\b\b\b\b\b\b\b\b\b\b\b\b\b\b\b\b\b\b\b\b\b\b\b\b\b\b\b\b\b\b\b\b\b\b\b\b\b\b\b\b\b\b\b\b\b\b\b\b\b\b\b\b\b\b\b\b\b\b\b\b\b\b\b\b\b\b\b\b\b\b\b\b\b\b\b\b\b\b\b\b\b\b\b\b\b\b\b\b\b\b\b\b\b\b\b\b\b\b\b\b\b\b\b\b\b\b\b\b\b\b\b\b\b\b\b\b\b\b\b\b\b\b\b\b\b\b\b\b\b\b\b\b\b\b\b\b\b\r5/5 [==============================] - 104s 21s/step - train_auc: 0.9578 - train_binaryaccuracy: 0.9203 - train_sensibility: 1.0000 - train_specificity: 0.9156 - val_auc: 0.8670 - val_binaryaccuracy: 0.9125 - val_sensibility: 0.8182 - val_specificity: 0.9159\n"
          ]
        }
      ]
    },
    {
      "cell_type": "code",
      "source": [
        "print(\"The mean of the binaryaccuracy = \",np.mean([e['binaryaccuracy'] for e in history['metrics_val']]))\n",
        "history['metrics_val']"
      ],
      "metadata": {
        "colab": {
          "base_uri": "https://localhost:8080/"
        },
        "id": "Abu7R3FikHgV",
        "outputId": "ffce5422-f40b-4529-d164-6d7b181ebcb9"
      },
      "execution_count": null,
      "outputs": [
        {
          "output_type": "stream",
          "name": "stdout",
          "text": [
            "The mean of the binaryaccuracy =  0.916875\n"
          ]
        },
        {
          "output_type": "execute_result",
          "data": {
            "text/plain": [
              "[{'auc': 0.912829,\n",
              "  'binaryaccuracy': 0.946875,\n",
              "  'sensibility': 0.875,\n",
              "  'specificity': 0.9506579},\n",
              " {'auc': 0.8874317,\n",
              "  'binaryaccuracy': 0.90625,\n",
              "  'sensibility': 0.8666667,\n",
              "  'specificity': 0.90819675},\n",
              " {'auc': 0.85154754,\n",
              "  'binaryaccuracy': 0.90625,\n",
              "  'sensibility': 0.7894737,\n",
              "  'specificity': 0.91362125},\n",
              " {'auc': 0.9089027,\n",
              "  'binaryaccuracy': 0.9125,\n",
              "  'sensibility': 0.9047619,\n",
              "  'specificity': 0.9130435},\n",
              " {'auc': 0.86701965,\n",
              "  'binaryaccuracy': 0.9125,\n",
              "  'sensibility': 0.8181818,\n",
              "  'specificity': 0.9158576}]"
            ]
          },
          "metadata": {},
          "execution_count": 112
        }
      ]
    },
    {
      "cell_type": "code",
      "source": [
        "labels_predicted = trainer.predict(bags_test)\n",
        "trainer.predict_metrics(bags_test, labels_test)"
      ],
      "metadata": {
        "colab": {
          "base_uri": "https://localhost:8080/"
        },
        "id": "pBjWKyoRkLdo",
        "outputId": "1a844dc0-304e-4ce6-84cb-8eb18f43baa0"
      },
      "execution_count": null,
      "outputs": [
        {
          "output_type": "execute_result",
          "data": {
            "text/plain": [
              "{'auc': 0.9064863,\n",
              " 'binaryaccuracy': 0.9225,\n",
              " 'sensibility': 0.8888889,\n",
              " 'specificity': 0.92408377}"
            ]
          },
          "metadata": {},
          "execution_count": 113
        }
      ]
    },
    {
      "cell_type": "markdown",
      "source": [
        "**Interpretation:** The evaluation of the MILES model predictions on the test data of the `CorelDesserts` indicate at the first sight superior performance. It attained an excellent score of `binaryaccuracy` 92% and a high value of the `area under the ROC curve` of 0.90. Those both metrics assesses the global classification effectiveness of the `MILES` model and indicating that is overall significantly performing on test data. Besides, 92% of the negative bags are correctly classified as negative which is quite significant. The ratio of correctly classified positive bags as postive is 88% indicating the considerable identification of the negative bags. Thus, the ratio of identification of the negative bags is a little bit greater than that of the positive bags. The performance of the MILES model on the `CorelDesserts` dataset is higher than that on the `CorelAfrican`."
      ],
      "metadata": {
        "id": "Nl2WJ4h8Ee-w"
      }
    },
    {
      "cell_type": "markdown",
      "source": [
        "### **CorelCars Dataset**"
      ],
      "metadata": {
        "id": "Nawni5GDj4P2"
      }
    },
    {
      "cell_type": "code",
      "source": [
        "from sklearn.model_selection import train_test_split\n",
        "\n",
        "#  'bags' is the feature matrix (bags x instances) and 'labels' is the label matrix (bags x labels)\n",
        "bag_indices = range(len(bagsCars))\n",
        "bags_train, bags_test, labels_train, labels_test, indices_train, indices_test = train_test_split(\n",
        "    bagsCars, labelsCars, bag_indices, test_size=0.2, random_state=42\n",
        ")"
      ],
      "metadata": {
        "id": "suJP9Aomk0qU"
      },
      "execution_count": null,
      "outputs": []
    },
    {
      "cell_type": "code",
      "source": [
        "trainer =Trainer()\n",
        "valid =valid = KFold(n_splits=5, shuffle = True)\n",
        "metrics = [AUC, BinaryAccuracy, Sensibility, Specificity]\n",
        "model = MILES()\n",
        "pipeline = [('scale', StandarizerBagsList())]\n",
        "\n",
        "trainer.prepare(model, preprocess_pipeline=pipeline, metrics=metrics)"
      ],
      "metadata": {
        "id": "gd9uJn2ykttS"
      },
      "execution_count": null,
      "outputs": []
    },
    {
      "cell_type": "code",
      "source": [
        "history = trainer.fit(bags_train, labels_train, sample_weights='balanced', validation_strategy=valid, verbose=1)"
      ],
      "metadata": {
        "colab": {
          "base_uri": "https://localhost:8080/"
        },
        "id": "JOoier_nkq4l",
        "outputId": "87bbebc3-89b3-4cce-be4c-8cce7c9498cb"
      },
      "execution_count": null,
      "outputs": [
        {
          "output_type": "stream",
          "name": "stderr",
          "text": [
            "/usr/local/lib/python3.10/dist-packages/sklearn/svm/_base.py:1244: ConvergenceWarning: Liblinear failed to converge, increase the number of iterations.\n",
            "  warnings.warn(\n"
          ]
        },
        {
          "output_type": "stream",
          "name": "stdout",
          "text": [
            "\r1/5 [=====>........................] - ETA: 1:59 - train_auc: 0.9228 - train_binaryaccuracy: 0.8531 - train_sensibility: 1.0000 - train_specificity: 0.8456 - val_auc: 0.8483 - val_binaryaccuracy: 0.8469 - val_sensibility: 0.8500 - val_specificity: 0.8467"
          ]
        },
        {
          "output_type": "stream",
          "name": "stderr",
          "text": [
            "/usr/local/lib/python3.10/dist-packages/sklearn/svm/_base.py:1244: ConvergenceWarning: Liblinear failed to converge, increase the number of iterations.\n",
            "  warnings.warn(\n"
          ]
        },
        {
          "output_type": "stream",
          "name": "stdout",
          "text": [
            "\b\b\b\b\b\b\b\b\b\b\b\b\b\b\b\b\b\b\b\b\b\b\b\b\b\b\b\b\b\b\b\b\b\b\b\b\b\b\b\b\b\b\b\b\b\b\b\b\b\b\b\b\b\b\b\b\b\b\b\b\b\b\b\b\b\b\b\b\b\b\b\b\b\b\b\b\b\b\b\b\b\b\b\b\b\b\b\b\b\b\b\b\b\b\b\b\b\b\b\b\b\b\b\b\b\b\b\b\b\b\b\b\b\b\b\b\b\b\b\b\b\b\b\b\b\b\b\b\b\b\b\b\b\b\b\b\b\b\b\b\b\b\b\b\b\b\b\b\b\b\b\b\b\b\b\b\b\b\b\b\b\b\b\b\b\b\b\b\b\b\b\b\b\b\b\b\b\b\b\b\b\b\b\b\b\b\b\b\b\b\b\b\b\b\b\b\b\b\b\b\b\b\b\b\b\b\b\b\b\b\b\b\b\b\b\b\b\b\b\b\b\b\b\b\b\b\b\b\b\b\b\b\b\b\b\b\b\b\b\b\b\b\b\b\b\b\b\b\b\b\b\b\b\b\r2/5 [===========>..................] - ETA: 1:10 - train_auc: 0.9150 - train_binaryaccuracy: 0.8398 - train_sensibility: 1.0000 - train_specificity: 0.8300 - val_auc: 0.8173 - val_binaryaccuracy: 0.7625 - val_sensibility: 0.8750 - val_specificity: 0.7596"
          ]
        },
        {
          "output_type": "stream",
          "name": "stderr",
          "text": [
            "/usr/local/lib/python3.10/dist-packages/sklearn/svm/_base.py:1244: ConvergenceWarning: Liblinear failed to converge, increase the number of iterations.\n",
            "  warnings.warn(\n"
          ]
        },
        {
          "output_type": "stream",
          "name": "stdout",
          "text": [
            "\b\b\b\b\b\b\b\b\b\b\b\b\b\b\b\b\b\b\b\b\b\b\b\b\b\b\b\b\b\b\b\b\b\b\b\b\b\b\b\b\b\b\b\b\b\b\b\b\b\b\b\b\b\b\b\b\b\b\b\b\b\b\b\b\b\b\b\b\b\b\b\b\b\b\b\b\b\b\b\b\b\b\b\b\b\b\b\b\b\b\b\b\b\b\b\b\b\b\b\b\b\b\b\b\b\b\b\b\b\b\b\b\b\b\b\b\b\b\b\b\b\b\b\b\b\b\b\b\b\b\b\b\b\b\b\b\b\b\b\b\b\b\b\b\b\b\b\b\b\b\b\b\b\b\b\b\b\b\b\b\b\b\b\b\b\b\b\b\b\b\b\b\b\b\b\b\b\b\b\b\b\b\b\b\b\b\b\b\b\b\b\b\b\b\b\b\b\b\b\b\b\b\b\b\b\b\b\b\b\b\b\b\b\b\b\b\b\b\b\b\b\b\b\b\b\b\b\b\b\b\b\b\b\b\b\b\b\b\b\b\b\b\b\b\b\b\b\b\b\b\b\b\b\b\r3/5 [=================>............] - ETA: 52s - train_auc: 0.9037 - train_binaryaccuracy: 0.8164 - train_sensibility: 1.0000 - train_specificity: 0.8074 - val_auc: 0.8967 - val_binaryaccuracy: 0.8469 - val_sensibility: 0.9545 - val_specificity: 0.8389 "
          ]
        },
        {
          "output_type": "stream",
          "name": "stderr",
          "text": [
            "/usr/local/lib/python3.10/dist-packages/sklearn/svm/_base.py:1244: ConvergenceWarning: Liblinear failed to converge, increase the number of iterations.\n",
            "  warnings.warn(\n"
          ]
        },
        {
          "output_type": "stream",
          "name": "stdout",
          "text": [
            "\b\b\b\b\b\b\b\b\b\b\b\b\b\b\b\b\b\b\b\b\b\b\b\b\b\b\b\b\b\b\b\b\b\b\b\b\b\b\b\b\b\b\b\b\b\b\b\b\b\b\b\b\b\b\b\b\b\b\b\b\b\b\b\b\b\b\b\b\b\b\b\b\b\b\b\b\b\b\b\b\b\b\b\b\b\b\b\b\b\b\b\b\b\b\b\b\b\b\b\b\b\b\b\b\b\b\b\b\b\b\b\b\b\b\b\b\b\b\b\b\b\b\b\b\b\b\b\b\b\b\b\b\b\b\b\b\b\b\b\b\b\b\b\b\b\b\b\b\b\b\b\b\b\b\b\b\b\b\b\b\b\b\b\b\b\b\b\b\b\b\b\b\b\b\b\b\b\b\b\b\b\b\b\b\b\b\b\b\b\b\b\b\b\b\b\b\b\b\b\b\b\b\b\b\b\b\b\b\b\b\b\b\b\b\b\b\b\b\b\b\b\b\b\b\b\b\b\b\b\b\b\b\b\b\b\b\b\b\b\b\b\b\b\b\b\b\b\b\b\b\b\b\b\r4/5 [=======================>......] - ETA: 26s - train_auc: 0.9152 - train_binaryaccuracy: 0.8391 - train_sensibility: 1.0000 - train_specificity: 0.8303 - val_auc: 0.8240 - val_binaryaccuracy: 0.8344 - val_sensibility: 0.8125 - val_specificity: 0.8355"
          ]
        },
        {
          "output_type": "stream",
          "name": "stderr",
          "text": [
            "/usr/local/lib/python3.10/dist-packages/sklearn/svm/_base.py:1244: ConvergenceWarning: Liblinear failed to converge, increase the number of iterations.\n",
            "  warnings.warn(\n"
          ]
        },
        {
          "output_type": "stream",
          "name": "stdout",
          "text": [
            "\b\b\b\b\b\b\b\b\b\b\b\b\b\b\b\b\b\b\b\b\b\b\b\b\b\b\b\b\b\b\b\b\b\b\b\b\b\b\b\b\b\b\b\b\b\b\b\b\b\b\b\b\b\b\b\b\b\b\b\b\b\b\b\b\b\b\b\b\b\b\b\b\b\b\b\b\b\b\b\b\b\b\b\b\b\b\b\b\b\b\b\b\b\b\b\b\b\b\b\b\b\b\b\b\b\b\b\b\b\b\b\b\b\b\b\b\b\b\b\b\b\b\b\b\b\b\b\b\b\b\b\b\b\b\b\b\b\b\b\b\b\b\b\b\b\b\b\b\b\b\b\b\b\b\b\b\b\b\b\b\b\b\b\b\b\b\b\b\b\b\b\b\b\b\b\b\b\b\b\b\b\b\b\b\b\b\b\b\b\b\b\b\b\b\b\b\b\b\b\b\b\b\b\b\b\b\b\b\b\b\b\b\b\b\b\b\b\b\b\b\b\b\b\b\b\b\b\b\b\b\b\b\b\b\b\b\b\b\b\b\b\b\b\b\b\b\b\b\b\b\b\b\b\r5/5 [==============================] - 136s 27s/step - train_auc: 0.9263 - train_binaryaccuracy: 0.8602 - train_sensibility: 1.0000 - train_specificity: 0.8526 - val_auc: 0.8191 - val_binaryaccuracy: 0.8250 - val_sensibility: 0.8125 - val_specificity: 0.8257\n"
          ]
        }
      ]
    },
    {
      "cell_type": "code",
      "source": [
        "print(\"The mean of the binaryaccuracy = \",np.mean([e['binaryaccuracy'] for e in history['metrics_val']]))\n",
        "history['metrics_val']"
      ],
      "metadata": {
        "colab": {
          "base_uri": "https://localhost:8080/"
        },
        "id": "B5KZ1OkPkoxP",
        "outputId": "98ed4b9f-dbc1-4ba1-b656-8195d09f7993"
      },
      "execution_count": null,
      "outputs": [
        {
          "output_type": "stream",
          "name": "stdout",
          "text": [
            "The mean of the binaryaccuracy =  0.823125\n"
          ]
        },
        {
          "output_type": "execute_result",
          "data": {
            "text/plain": [
              "[{'auc': 0.84833336,\n",
              "  'binaryaccuracy': 0.846875,\n",
              "  'sensibility': 0.85,\n",
              "  'specificity': 0.8466667},\n",
              " {'auc': 0.8173078,\n",
              "  'binaryaccuracy': 0.7625,\n",
              "  'sensibility': 0.875,\n",
              "  'specificity': 0.75961536},\n",
              " {'auc': 0.89673585,\n",
              "  'binaryaccuracy': 0.846875,\n",
              "  'sensibility': 0.95454544,\n",
              "  'specificity': 0.8389262},\n",
              " {'auc': 0.82401323,\n",
              "  'binaryaccuracy': 0.834375,\n",
              "  'sensibility': 0.8125,\n",
              "  'specificity': 0.8355263},\n",
              " {'auc': 0.8190789,\n",
              "  'binaryaccuracy': 0.825,\n",
              "  'sensibility': 0.8125,\n",
              "  'specificity': 0.8256579}]"
            ]
          },
          "metadata": {},
          "execution_count": 117
        }
      ]
    },
    {
      "cell_type": "code",
      "source": [
        "labels_predicted = trainer.predict(bags_test)\n",
        "trainer.predict_metrics(bags_test, labels_test)"
      ],
      "metadata": {
        "colab": {
          "base_uri": "https://localhost:8080/"
        },
        "id": "CFQdMfTMj8Sc",
        "outputId": "1a2c4967-e499-4a87-a10f-2474c7ab7ef0"
      },
      "execution_count": null,
      "outputs": [
        {
          "output_type": "execute_result",
          "data": {
            "text/plain": [
              "{'auc': 0.85703903,\n",
              " 'binaryaccuracy': 0.7775,\n",
              " 'sensibility': 0.9444444,\n",
              " 'specificity': 0.76963353}"
            ]
          },
          "metadata": {},
          "execution_count": 118
        }
      ]
    },
    {
      "cell_type": "markdown",
      "source": [
        "**Interpretation:** The `MILES` performance measures on the test data are stated in the output of the cell above. We notice that the `binaryaccuracy` value is good (0.77), however lower than that on the other datasets `CorelAfrican` and `CorelDesserts`. It indicates that the `MILES` model correctly label  77% of the bags considering the class distribution. Moreover, the `area under the ROC curve` is 0.85, indicating the significant capacity of the `MILES` model in discriminating between the negative and the positive class bags. Besides, the sensibility is excellent, where the model correctly identified 94% of the positive bags. While, it only correctly labels 76% of the negative bags, which is relatively lower than the that of the positive bags. Hence, the model is well performing with respect to the `CorelCars` dataset however is a bit biased to the positive class bags, which lowers the `binaryaccuracy`."
      ],
      "metadata": {
        "id": "hxpTOxY7IDLD"
      }
    },
    {
      "cell_type": "markdown",
      "source": [
        "## **4. Comparative Analysis and Conclusion**\n"
      ],
      "metadata": {
        "id": "8qfmf9HXLD1B"
      }
    },
    {
      "cell_type": "markdown",
      "source": [
        "**Description** In this notebook of the Multi-Instance Classification Task. We discovered the resources available related to the task including the repositories of the multi-instance datasets and the two existing multi-instance learning python libraries (`mil` and `misvm`). Consequently, we chose three datasets `CorelAfrican`, `CorelDesserts`, and `CorelCars` along with three multi-instance algorithms. The first model is an instance based method, the rest are embedded-space based algorithm: one called the Discriminative Mapping using Support Vector Classifier and the second model is the MILES.\n",
        "\n",
        "\n"
      ],
      "metadata": {
        "id": "uAcIt1HZ7x2P"
      }
    },
    {
      "cell_type": "markdown",
      "source": [
        " **Comparative Analysis**\n",
        "\n",
        " First of all the APR method which based on the standard assumption of the positive bag is at least contains on positive instance is severely biased towards the positive class. As such it attained a perfect performance in identifying the positive bags while almost ignoored the majority of the negative bags. Hnece the APR regarding the employed multi-instance datasets is the least classification performance by misclassifying the negative bags.\n",
        "\n",
        "On the other hand,The discriminative mapping using SVC and the MILES are similarly and significantly performing on the `CorelDessers` dataset in term of `area under the ROC curve`, however the MILES model is less biased to the positive bags class compared to the other model. On the datasets `CorelAfrican` and `CorelCars`, the discriminative mapping using SVC model is exceeding the MILE in term `specificity` and `binaryaccuracy`, indicating that it is achieving higher general performance and more significant identification of the negative bags class. Nevertheless, the MILES is releasing better recognition of positive bags in both datasets (`CorelAfrican` and `CorelCars`). Both models are releasing close values of the `area under the ROC curve` in both datasets indicating the insignificant difference in their discrimination between negative and positive classes of bags. Consequently, the MILES is better identifying the positive bags class in all used datasets associated with relatively considerable to excellent ratios of the negative class classification. The discriminative mapping using SVC is more biased to the negative class of bags which comes to the cost of the classification of positive class bags. The MILES reaches a better tradeoff between the correct classification of the classes of bags regarding the used datasets.\n",
        "\n",
        "Finally, the embedded space methods: discriminative mapping using SVC and the MILES released significantly better performance compared to the APR model, but the MILES is providing better compromise between the specificity and sensibility.\n"
      ],
      "metadata": {
        "id": "egfuDIa-773_"
      }
    },
    {
      "cell_type": "markdown",
      "source": [
        "**Conclusion:** The experimental procedures with multi-instance classification included two different approaches, instance-space based and embedded-space based, respectively, APR and (MILES and the discriminative mapping using SVC). The trainer process including a pipeline containing the used methods Standardization of the bag list as preprocessing as well as the cross validation process for evaluation with the selected metrics.The APR significantly misclassified the negative bags and provided unreliable predictions, hence it is considered the least effective multi-instance classifier with respect to the employed datasets. The results of the embedded-space methods on the selected data is generally good at first glance. The comparison released their similar performance in one dataset. On the other datasets, the MILES attained a better compromise between the identification of negative bags as well as the positive bags, further the discriminative mapping using SVC is noticable biased towards the majority class that is the negative class of bags. All in all, the embedded-space methods achieved high performance in the three multi-instance classification datasets, while the instance-based method stands as the weak classifier.\n",
        "\n",
        " ***Nota: dados los problemas actuales con la librería python misvm, no hemos podido utilizar ningún método del enfoque misvm.***"
      ],
      "metadata": {
        "id": "fYO_9RLa72_a"
      }
    },
    {
      "cell_type": "markdown",
      "source": [
        "## **References**"
      ],
      "metadata": {
        "id": "H4TXWk7I_vkH"
      }
    },
    {
      "cell_type": "markdown",
      "source": [
        "\n",
        " **Datasets:**\n",
        "* [Datasets_figshare](https://figshare.com/articles/dataset/MIProblems_A_repository_of_multiple_instance_learning_datasets/6633983)\n",
        "* [multipleinstance](http://www.multipleinstancelearning.com/datasets/)\n",
        "\n",
        "**Python Library:**\n",
        "\n",
        "* Multiple instance learning library:\n",
        "[mil_github](https://github.com/rosasalberto/mil)\n",
        "\n",
        " **Articles:**\n",
        "* [MILES: Multiple-Instance Learning\n",
        "via Embedded Instance Selection](https://ieeexplore.ieee.org/stamp/stamp.jsp?tp=&arnumber=1717454)\n",
        "* [Multiple instance classification: Review, taxonomy and comparative study](https://www.sciencedirect.com/science/article/pii/S0004370213000581)"
      ],
      "metadata": {
        "id": "aRU0fl6m8T3Z"
      }
    }
  ]
}